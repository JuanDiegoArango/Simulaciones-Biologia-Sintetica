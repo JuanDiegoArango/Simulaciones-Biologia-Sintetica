{
 "metadata": {
  "name": "",
  "signature": "sha256:f40d82edd7e1bb0d0607e13435bbfc1d01967fb88db2551b291b632d28dbd3e2"
 },
 "nbformat": 3,
 "nbformat_minor": 0,
 "worksheets": [
  {
   "cells": [
    {
     "cell_type": "code",
     "collapsed": false,
     "input": [
      "%pylab inline\n",
      "import time"
     ],
     "language": "python",
     "metadata": {},
     "outputs": [
      {
       "output_type": "stream",
       "stream": "stdout",
       "text": [
        "Populating the interactive namespace from numpy and matplotlib\n"
       ]
      }
     ],
     "prompt_number": 2
    },
    {
     "cell_type": "markdown",
     "metadata": {},
     "source": [
      "Primero se definen las constantes necesarias, las tasas de creaci\u00f3n y destrucci\u00f3n,  el tiempo, el n\u00famero de c\u00e9lulas y el tama\u00f1o de los arreglos. Tambi\u00e9n se definen los arreglos. Hay un arreglos de dos dimensiones para almacenar el tiempo en el que ocurre cada evento para cada c\u00e9lula, como tambi\u00e9n las cantidades de ARN y prote\u00ednas en esos instantes."
     ]
    },
    {
     "cell_type": "code",
     "collapsed": false,
     "input": [
      "gr=1.0/5.0\n",
      "gp=1.0/30.0\n",
      "kr=1.0/1.0\n",
      "kp=50.0/5.0\n",
      "\n",
      "tiempo=500\n",
      "numero_de_celulas=100\n",
      "tamano=100000\n",
      "\n",
      "p=zeros((numero_de_celulas,tiempo*10000))\n",
      "r=zeros((numero_de_celulas,tiempo*10000))\n",
      "tau=zeros((numero_de_celulas,tiempo*10000))"
     ],
     "language": "python",
     "metadata": {},
     "outputs": [],
     "prompt_number": 3
    },
    {
     "cell_type": "markdown",
     "metadata": {},
     "source": [
      "El algoritmo de Gillespie  se implementa  de la siguiente manera,  se tiene dos ciclos anidados, en ciclo exterior se tiene un  for que cuenta el numero de c\u00e9lulas (para repetir el algoritmo de Gillespie para cada c\u00e9lula) . En el interior del ciclo for se definen los arreglos p0 y r0 (los cuales se usan guardar la informaci\u00f3n de que pasa con las cantidades de ARN y prote\u00edna en cada momento), y dos contadores inicializado en 0 (t y i).  Se entra en el ciclo while  y la condici\u00f3n para que contin\u00fae es que  el contador t sea menor que el tiempo que se define afuera. En el interior del while se normalizan todos las tasa de creaci\u00f3n y destrucci\u00f3n y se le asigna ,por medio de condicionales  a cada acci\u00f3n una secci\u00f3n de intervalo de 0 a 1 . Luego se genera un n\u00famero aleatorio entre 0 y 1, de acuerdo a donde  caiga el numero aleatorio se realiza esa acci\u00f3n, por ejemplo si el n\u00famero aleatorio cae entre 0 y kr/kt, entonces en el siguiente intervalo de r0 habr\u00e1 un ARN m\u00e1s, y las prote\u00ednas se quedaran igual en ese intervalo. Luego se genera un numero aleatorio exponencial para saber cuanto ser\u00e1 el siguiente paso  temporal, esto se guarda en el arreglo de tiempo y se le suma ese numero al contador t, eventualmente t ser\u00e1 mayor que tiempo y el ciclo termina.\n",
      "Comas las constantes depende de la cantidad de ARN mensajero y Proteina estas se actualizan tambi\u00e9n en cada iteraci\u00f3n."
     ]
    },
    {
     "cell_type": "code",
     "collapsed": false,
     "input": [
      "to=time.clock()\n",
      "for j in range (0,numero_de_celulas):\n",
      "    print j\n",
      "    p0=zeros(tiempo*10000)\n",
      "    r0=zeros(tiempo*10000)\n",
      "    t=0.0\n",
      "    i=0.0\n",
      "    while t<tiempo: \n",
      "        aleatorio=random.random()  \n",
      "        a=r0[i]\n",
      "        b=p0[i]  \n",
      "        kt=kp*a+kr+gp*b+gr*a\n",
      "        kpkt=kp*a/kt\n",
      "        gpkt=gp*b/kt\n",
      "        grkt=gr*a/kt\n",
      "        krkt=kr/kt\n",
      "        if(aleatorio>=0)&(aleatorio<krkt):\n",
      "            r0[i+1]=(a+1.0)\n",
      "            p0[i+1]=(b)      \n",
      "        elif(aleatorio<kpkt+krkt)&(aleatorio>=krkt) &(a!=0) :\n",
      "            p0[i+1]=(b+1.0) \n",
      "            r0[i+1]=(a)\n",
      "        elif(aleatorio<kpkt+krkt+gpkt)&(aleatorio>=kpkt+krkt) & (b!=0):\n",
      "            p0[i+1]=(b-1.0) \n",
      "            r0[i+1]=(a)\n",
      "        elif(aleatorio<1) & (aleatorio>=kpkt+krkt+gpkt) & (a!=0):\n",
      "            r0[i+1]=(a-1.0)\n",
      "            p0[i+1]=(b)\n",
      "        c=random.exponential(1.0/kt)\n",
      "        t=t+sum(c)\n",
      "        tau[j][i+1]=t\n",
      "        i=1+i\n",
      "    if(tamano>i):\n",
      "        tamano=i\n",
      "    p[j]=p0\n",
      "    r[j]=r0\n",
      "print time.clock()-to"
     ],
     "language": "python",
     "metadata": {},
     "outputs": [
      {
       "output_type": "stream",
       "stream": "stdout",
       "text": [
        "0\n",
        "1"
       ]
      },
      {
       "output_type": "stream",
       "stream": "stdout",
       "text": [
        "\n",
        "2"
       ]
      },
      {
       "output_type": "stream",
       "stream": "stdout",
       "text": [
        "\n",
        "3"
       ]
      },
      {
       "output_type": "stream",
       "stream": "stdout",
       "text": [
        "\n",
        "4"
       ]
      },
      {
       "output_type": "stream",
       "stream": "stdout",
       "text": [
        "\n",
        "5"
       ]
      },
      {
       "output_type": "stream",
       "stream": "stdout",
       "text": [
        "\n",
        "6"
       ]
      },
      {
       "output_type": "stream",
       "stream": "stdout",
       "text": [
        "\n",
        "7"
       ]
      },
      {
       "output_type": "stream",
       "stream": "stdout",
       "text": [
        "\n",
        "8"
       ]
      },
      {
       "output_type": "stream",
       "stream": "stdout",
       "text": [
        "\n",
        "9"
       ]
      },
      {
       "output_type": "stream",
       "stream": "stdout",
       "text": [
        "\n",
        "10"
       ]
      },
      {
       "output_type": "stream",
       "stream": "stdout",
       "text": [
        "\n",
        "11"
       ]
      },
      {
       "output_type": "stream",
       "stream": "stdout",
       "text": [
        "\n",
        "12"
       ]
      },
      {
       "output_type": "stream",
       "stream": "stdout",
       "text": [
        "\n",
        "13"
       ]
      },
      {
       "output_type": "stream",
       "stream": "stdout",
       "text": [
        "\n",
        "14"
       ]
      },
      {
       "output_type": "stream",
       "stream": "stdout",
       "text": [
        "\n",
        "15"
       ]
      },
      {
       "output_type": "stream",
       "stream": "stdout",
       "text": [
        "\n",
        "16"
       ]
      },
      {
       "output_type": "stream",
       "stream": "stdout",
       "text": [
        "\n",
        "17"
       ]
      },
      {
       "output_type": "stream",
       "stream": "stdout",
       "text": [
        "\n",
        "18"
       ]
      },
      {
       "output_type": "stream",
       "stream": "stdout",
       "text": [
        "\n",
        "19"
       ]
      },
      {
       "output_type": "stream",
       "stream": "stdout",
       "text": [
        "\n",
        "20"
       ]
      },
      {
       "output_type": "stream",
       "stream": "stdout",
       "text": [
        "\n",
        "21"
       ]
      },
      {
       "output_type": "stream",
       "stream": "stdout",
       "text": [
        "\n",
        "22"
       ]
      },
      {
       "output_type": "stream",
       "stream": "stdout",
       "text": [
        "\n",
        "23"
       ]
      },
      {
       "output_type": "stream",
       "stream": "stdout",
       "text": [
        "\n",
        "24"
       ]
      },
      {
       "output_type": "stream",
       "stream": "stdout",
       "text": [
        "\n",
        "25"
       ]
      },
      {
       "output_type": "stream",
       "stream": "stdout",
       "text": [
        "\n",
        "26"
       ]
      },
      {
       "output_type": "stream",
       "stream": "stdout",
       "text": [
        "\n",
        "27"
       ]
      },
      {
       "output_type": "stream",
       "stream": "stdout",
       "text": [
        "\n",
        "28"
       ]
      },
      {
       "output_type": "stream",
       "stream": "stdout",
       "text": [
        "\n",
        "29"
       ]
      },
      {
       "output_type": "stream",
       "stream": "stdout",
       "text": [
        "\n",
        "30"
       ]
      },
      {
       "output_type": "stream",
       "stream": "stdout",
       "text": [
        "\n",
        "31"
       ]
      },
      {
       "output_type": "stream",
       "stream": "stdout",
       "text": [
        "\n",
        "32"
       ]
      },
      {
       "output_type": "stream",
       "stream": "stdout",
       "text": [
        "\n",
        "33"
       ]
      },
      {
       "output_type": "stream",
       "stream": "stdout",
       "text": [
        "\n",
        "34"
       ]
      },
      {
       "output_type": "stream",
       "stream": "stdout",
       "text": [
        "\n",
        "35"
       ]
      },
      {
       "output_type": "stream",
       "stream": "stdout",
       "text": [
        "\n",
        "36"
       ]
      },
      {
       "output_type": "stream",
       "stream": "stdout",
       "text": [
        "\n",
        "37"
       ]
      },
      {
       "output_type": "stream",
       "stream": "stdout",
       "text": [
        "\n",
        "38"
       ]
      },
      {
       "output_type": "stream",
       "stream": "stdout",
       "text": [
        "\n",
        "39"
       ]
      },
      {
       "output_type": "stream",
       "stream": "stdout",
       "text": [
        "\n",
        "40"
       ]
      },
      {
       "output_type": "stream",
       "stream": "stdout",
       "text": [
        "\n",
        "41"
       ]
      },
      {
       "output_type": "stream",
       "stream": "stdout",
       "text": [
        "\n",
        "42"
       ]
      },
      {
       "output_type": "stream",
       "stream": "stdout",
       "text": [
        "\n",
        "43"
       ]
      },
      {
       "output_type": "stream",
       "stream": "stdout",
       "text": [
        "\n",
        "44"
       ]
      },
      {
       "output_type": "stream",
       "stream": "stdout",
       "text": [
        "\n",
        "45"
       ]
      },
      {
       "output_type": "stream",
       "stream": "stdout",
       "text": [
        "\n",
        "46"
       ]
      },
      {
       "output_type": "stream",
       "stream": "stdout",
       "text": [
        "\n",
        "47"
       ]
      },
      {
       "output_type": "stream",
       "stream": "stdout",
       "text": [
        "\n",
        "48"
       ]
      },
      {
       "output_type": "stream",
       "stream": "stdout",
       "text": [
        "\n",
        "49"
       ]
      },
      {
       "output_type": "stream",
       "stream": "stdout",
       "text": [
        "\n",
        "50"
       ]
      },
      {
       "output_type": "stream",
       "stream": "stdout",
       "text": [
        "\n",
        "51"
       ]
      },
      {
       "output_type": "stream",
       "stream": "stdout",
       "text": [
        "\n",
        "52"
       ]
      },
      {
       "output_type": "stream",
       "stream": "stdout",
       "text": [
        "\n",
        "53"
       ]
      },
      {
       "output_type": "stream",
       "stream": "stdout",
       "text": [
        "\n",
        "54"
       ]
      },
      {
       "output_type": "stream",
       "stream": "stdout",
       "text": [
        "\n",
        "55"
       ]
      },
      {
       "output_type": "stream",
       "stream": "stdout",
       "text": [
        "\n",
        "56"
       ]
      },
      {
       "output_type": "stream",
       "stream": "stdout",
       "text": [
        "\n",
        "57"
       ]
      },
      {
       "output_type": "stream",
       "stream": "stdout",
       "text": [
        "\n",
        "58"
       ]
      },
      {
       "output_type": "stream",
       "stream": "stdout",
       "text": [
        "\n",
        "59"
       ]
      },
      {
       "output_type": "stream",
       "stream": "stdout",
       "text": [
        "\n",
        "60"
       ]
      },
      {
       "output_type": "stream",
       "stream": "stdout",
       "text": [
        "\n",
        "61"
       ]
      },
      {
       "output_type": "stream",
       "stream": "stdout",
       "text": [
        "\n",
        "62"
       ]
      },
      {
       "output_type": "stream",
       "stream": "stdout",
       "text": [
        "\n",
        "63"
       ]
      },
      {
       "output_type": "stream",
       "stream": "stdout",
       "text": [
        "\n",
        "64"
       ]
      },
      {
       "output_type": "stream",
       "stream": "stdout",
       "text": [
        "\n",
        "65"
       ]
      },
      {
       "output_type": "stream",
       "stream": "stdout",
       "text": [
        "\n",
        "66"
       ]
      },
      {
       "output_type": "stream",
       "stream": "stdout",
       "text": [
        "\n",
        "67"
       ]
      },
      {
       "output_type": "stream",
       "stream": "stdout",
       "text": [
        "\n",
        "68"
       ]
      },
      {
       "output_type": "stream",
       "stream": "stdout",
       "text": [
        "\n",
        "69"
       ]
      },
      {
       "output_type": "stream",
       "stream": "stdout",
       "text": [
        "\n",
        "70"
       ]
      },
      {
       "output_type": "stream",
       "stream": "stdout",
       "text": [
        "\n",
        "71"
       ]
      },
      {
       "output_type": "stream",
       "stream": "stdout",
       "text": [
        "\n",
        "72"
       ]
      },
      {
       "output_type": "stream",
       "stream": "stdout",
       "text": [
        "\n",
        "73"
       ]
      },
      {
       "output_type": "stream",
       "stream": "stdout",
       "text": [
        "\n",
        "74"
       ]
      },
      {
       "output_type": "stream",
       "stream": "stdout",
       "text": [
        "\n",
        "75"
       ]
      },
      {
       "output_type": "stream",
       "stream": "stdout",
       "text": [
        "\n",
        "76"
       ]
      },
      {
       "output_type": "stream",
       "stream": "stdout",
       "text": [
        "\n",
        "77"
       ]
      },
      {
       "output_type": "stream",
       "stream": "stdout",
       "text": [
        "\n",
        "78"
       ]
      },
      {
       "output_type": "stream",
       "stream": "stdout",
       "text": [
        "\n",
        "79"
       ]
      },
      {
       "output_type": "stream",
       "stream": "stdout",
       "text": [
        "\n",
        "80"
       ]
      },
      {
       "output_type": "stream",
       "stream": "stdout",
       "text": [
        "\n",
        "81"
       ]
      },
      {
       "output_type": "stream",
       "stream": "stdout",
       "text": [
        "\n",
        "82"
       ]
      },
      {
       "output_type": "stream",
       "stream": "stdout",
       "text": [
        "\n",
        "83"
       ]
      },
      {
       "output_type": "stream",
       "stream": "stdout",
       "text": [
        "\n",
        "84"
       ]
      },
      {
       "output_type": "stream",
       "stream": "stdout",
       "text": [
        "\n",
        "85"
       ]
      },
      {
       "output_type": "stream",
       "stream": "stdout",
       "text": [
        "\n",
        "86"
       ]
      },
      {
       "output_type": "stream",
       "stream": "stdout",
       "text": [
        "\n",
        "87"
       ]
      },
      {
       "output_type": "stream",
       "stream": "stdout",
       "text": [
        "\n",
        "88"
       ]
      },
      {
       "output_type": "stream",
       "stream": "stdout",
       "text": [
        "\n",
        "89"
       ]
      },
      {
       "output_type": "stream",
       "stream": "stdout",
       "text": [
        "\n",
        "90"
       ]
      },
      {
       "output_type": "stream",
       "stream": "stdout",
       "text": [
        "\n",
        "91"
       ]
      },
      {
       "output_type": "stream",
       "stream": "stdout",
       "text": [
        "\n",
        "92"
       ]
      },
      {
       "output_type": "stream",
       "stream": "stdout",
       "text": [
        "\n",
        "93"
       ]
      },
      {
       "output_type": "stream",
       "stream": "stdout",
       "text": [
        "\n",
        "94"
       ]
      },
      {
       "output_type": "stream",
       "stream": "stdout",
       "text": [
        "\n",
        "95"
       ]
      },
      {
       "output_type": "stream",
       "stream": "stdout",
       "text": [
        "\n",
        "96"
       ]
      },
      {
       "output_type": "stream",
       "stream": "stdout",
       "text": [
        "\n",
        "97"
       ]
      },
      {
       "output_type": "stream",
       "stream": "stdout",
       "text": [
        "\n",
        "98"
       ]
      },
      {
       "output_type": "stream",
       "stream": "stdout",
       "text": [
        "\n",
        "99"
       ]
      },
      {
       "output_type": "stream",
       "stream": "stdout",
       "text": [
        "\n",
        "283.055428"
       ]
      },
      {
       "output_type": "stream",
       "stream": "stdout",
       "text": [
        "\n"
       ]
      }
     ],
     "prompt_number": 4
    },
    {
     "cell_type": "code",
     "collapsed": false,
     "input": [
      "a=tamano\n",
      "pfinal=zeros((numero_de_celulas,a+1))\n",
      "rfinal=zeros((numero_de_celulas,a+1))\n",
      "tau_final=zeros((numero_de_celulas,a+1))\n",
      "for i in range (0,numero_de_celulas):\n",
      "    pfinal[i]=(p[i])[0:a+1]\n",
      "    rfinal[i]=(r[i])[0:a+1]\n",
      "    tau_final[i]=(tau[i])[0:a+1]\n"
     ],
     "language": "python",
     "metadata": {},
     "outputs": [],
     "prompt_number": 5
    },
    {
     "cell_type": "code",
     "collapsed": false,
     "input": [
      "particion=tamano\n",
      "dt=tamano/(particion)\n",
      "print dt\n",
      "p2=zeros((numero_de_celulas,particion))\n",
      "r2=zeros((numero_de_celulas,particion))\n",
      "for i in range (0,numero_de_celulas):\n",
      "    for j in range (0, int(particion)):\n",
      "        indice = (abs(tau_final[i]-j*dt)).argmin()\n",
      "        p2[i][j]=pfinal[i][indice]\n",
      "        r2[i][j]=rfinal[i][indice]          "
     ],
     "language": "python",
     "metadata": {},
     "outputs": [
      {
       "output_type": "stream",
       "stream": "stdout",
       "text": [
        "1.0\n"
       ]
      }
     ],
     "prompt_number": 6
    },
    {
     "cell_type": "code",
     "collapsed": false,
     "input": [
      "a=0\n",
      "b=0\n",
      "for i in range(0, len(p2)):\n",
      "    a=a+p2[i]\n",
      "    b=b+r2[i]\n",
      "a=a/len(p2)\n",
      "b=b/len(r2)"
     ],
     "language": "python",
     "metadata": {},
     "outputs": [],
     "prompt_number": 18
    },
    {
     "cell_type": "markdown",
     "metadata": {},
     "source": [
      "Al final se presentan las graficas. El obtuvo de promedio al iterar el 500 veces  fue de 1559.14 para las prote\u00ednas y 5.6\n",
      "para el ARN mensajero, es importante recalcar que estos valore son pr\u00e1cticamente los mismo que se obtiene al observar la ecuaci\u00f3n diferencial en estado estable, la diferencia procede de ruido del metodo n\u00famerico. Al observar las distribuciones, ellas tienen una apariencias bastante gaussiana , se hab\u00eda visto en clase que deb\u00edan parecerse mas a una distribuci\u00f3n de Poisson , pero  debido al gran n\u00famero de elementos se puede justificar esa apariencia con el teorema de limite central, que dice que para cierto tama\u00f1o las distribuciones tienden a ser Gaussianas. El ruido que se tiene para las prote\u00ednas  es de 0.166 y para el ARN de 0.408."
     ]
    },
    {
     "cell_type": "code",
     "collapsed": false,
     "input": [
      "tau2=linspace(0,len(a),len(a*10))\n",
      "plot(tau2,a) \n",
      "ylim(0,1800)\n",
      "xlim(0,1000)\n",
      "ylabel('Prbabilidad')\n",
      "xlabel('Poblacion por celula proteina')"
     ],
     "language": "python",
     "metadata": {},
     "outputs": [
      {
       "metadata": {},
       "output_type": "pyout",
       "prompt_number": 19,
       "text": [
        "<matplotlib.text.Text at 0x3e0f86fd0>"
       ]
      },
      {
       "metadata": {},
       "output_type": "display_data",
       "png": "[encoded data removed]",
       "text": [
        "<matplotlib.figure.Figure at 0x105e5ffd0>"
       ]
      }
     ],
     "prompt_number": 19
    },
    {
     "cell_type": "code",
     "collapsed": false,
     "input": [
      "plot(tau2,b) \n",
      "ylabel('Prbabilidad')\n",
      "xlabel('Poblacion por celula rna')\n",
      "xlim(-100,1000)\n",
      "ylim(0,10)"
     ],
     "language": "python",
     "metadata": {},
     "outputs": [
      {
       "metadata": {},
       "output_type": "pyout",
       "prompt_number": 22,
       "text": [
        "(0, 10)"
       ]
      },
      {
       "metadata": {},
       "output_type": "display_data",
       "png": "[encoded data removed]",
       "text": [
        "<matplotlib.figure.Figure at 0x3e0cd42d0>"
       ]
      }
     ],
     "prompt_number": 22
    },
    {
     "cell_type": "code",
     "collapsed": false,
     "input": [
      "kr/gr"
     ],
     "language": "python",
     "metadata": {},
     "outputs": [
      {
       "metadata": {},
       "output_type": "pyout",
       "prompt_number": 10,
       "text": [
        "5.0"
       ]
      }
     ],
     "prompt_number": 10
    },
    {
     "cell_type": "code",
     "collapsed": false,
     "input": [
      "c=len(p2[0])-1\n",
      "distribucionp=empty(0)\n",
      "distribucionr=empty(0)\n",
      "\n",
      "for i in range (0,numero_de_celulas):\n",
      "    distribucionp=append(distribucionp,[p2[i][c]])\n",
      "    distribucionr=append(distribucionr,[r2[i][c]])\n",
      "\n",
      "    "
     ],
     "language": "python",
     "metadata": {},
     "outputs": [],
     "prompt_number": 11
    },
    {
     "cell_type": "code",
     "collapsed": false,
     "input": [
      "fig=count, bins, ignored = plt.hist(distribucionp, 150,normed=True)\n",
      "title(\"Distribucion de proteinas usando metodo Gillespie\", size=9)\n",
      "ylabel('Prbabilidad')\n",
      "xlabel('Poblacion por celula')\n",
      "plt.savefig('Distribucion de proteinas.pdf',dpi=250)\n",
      "a= std(distribucionp)\n",
      "b= mean(distribucionp)\n",
      "ruido=(a)/b\n",
      "print ruido\n",
      "print b"
     ],
     "language": "python",
     "metadata": {},
     "outputs": [
      {
       "output_type": "stream",
       "stream": "stdout",
       "text": [
        "0.166188993354\n",
        "1559.14\n"
       ]
      },
      {
       "metadata": {},
       "output_type": "display_data",
       "png": "[encoded data removed]",
       "text": [
        "<matplotlib.figure.Figure at 0x104f2ba10>"
       ]
      }
     ],
     "prompt_number": 12
    },
    {
     "cell_type": "code",
     "collapsed": false,
     "input": [
      "fig=count, bins, ignored = plt.hist(distribucionr, 100,normed=True)\n",
      "title(\"Distribucion de ARN mensajero usando metodo Gillespie\", size=9)\n",
      "ylabel('Prbabilidad')\n",
      "xlabel('Poblacion por celula')\n",
      "plt.savefig('Distribucion de ARN mensajero.pdf',dpi=250)\n",
      "c= std(distribucionr)\n",
      "d = mean(distribucionr)\n",
      "ruido=c/d\n",
      "print ruido\n",
      "print d"
     ],
     "language": "python",
     "metadata": {},
     "outputs": [
      {
       "output_type": "stream",
       "stream": "stdout",
       "text": [
        "0.408768683652\n",
        "5.6\n"
       ]
      },
      {
       "metadata": {},
       "output_type": "display_data",
       "png": "[encoded data removed]",
       "text": [
        "<matplotlib.figure.Figure at 0x10445c110>"
       ]
      }
     ],
     "prompt_number": 13
    },
    {
     "cell_type": "markdown",
     "metadata": {},
     "source": [
      "Se encuentra el tiempo para realizar el proceso para 100,000 celulas"
     ]
    },
    {
     "cell_type": "code",
     "collapsed": false,
     "input": [
      "a=283.055428 #Tiempo requerido para solo 100 celulas#\n",
      "b=a*100 #Luego el tiempo para 100000 es el siguiente#\n",
      "b/(10/gp) # En unidades de 10/gp#"
     ],
     "language": "python",
     "metadata": {},
     "outputs": [
      {
       "metadata": {},
       "output_type": "pyout",
       "prompt_number": 5,
       "text": [
        "94.35180933333334"
       ]
      }
     ],
     "prompt_number": 5
    }
   ],
   "metadata": {}
  }
 ]
}