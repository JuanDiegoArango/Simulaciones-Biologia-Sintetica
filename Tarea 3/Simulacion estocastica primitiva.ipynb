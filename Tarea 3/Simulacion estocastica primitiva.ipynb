{
 "metadata": {
  "name": "",
  "signature": "sha256:5759c3eb303ef855fa23ac3d425ce1ed49dd6889c6523bf132fe4de5b3616442"
 },
 "nbformat": 3,
 "nbformat_minor": 0,
 "worksheets": [
  {
   "cells": [
    {
     "cell_type": "code",
     "collapsed": false,
     "input": [
      "%pylab inline\n",
      "import time"
     ],
     "language": "python",
     "metadata": {},
     "outputs": [
      {
       "output_type": "stream",
       "stream": "stdout",
       "text": [
        "Populating the interactive namespace from numpy and matplotlib\n"
       ]
      }
     ],
     "prompt_number": 13
    },
    {
     "cell_type": "markdown",
     "metadata": {},
     "source": [
      "La rutina se creo para realizar la simulaci\u00f3n estoc\u00e1stica primitiva es el siguiente :\n",
      "Primero de definen las constantes, que incluyen las tasas de creaci\u00f3n y destrucci\u00f3n, el tiempo, el n\u00famero de c\u00e9lulas y los dt.   \n",
      "Luego se definen arreglos para guardar la informaci\u00f3n de cada c\u00e9lula como tambi\u00e9n el promedio que se grafica."
     ]
    },
    {
     "cell_type": "code",
     "collapsed": false,
     "input": [
      "gr=(1.0/5.0)*(1.0/60.0)*(1.0/100.0) \n",
      "gp=(1.0/30.0)*(1.0/60.0)*(1.0/100.0)  \n",
      "kr=(1.0/1.0)*(1.0/60.0)*(1.0/100.0)   \n",
      "kp=(10.0)*(1.0/60.0)*(1.0/100.0) \n",
      "tiempo=(500.0)*(60.0)*100.0\n",
      "\n",
      "numero_de_celulas=50\n",
      "\n",
      "particion=tiempo\n",
      "\n",
      "dt=tiempo/particion\n",
      "\n",
      "\n",
      "p=zeros(particion)\n",
      "r=zeros(particion)\n",
      "p0=zeros((numero_de_celulas,tiempo))\n",
      "r0=zeros((numero_de_celulas,tiempo))"
     ],
     "language": "python",
     "metadata": {},
     "outputs": [],
     "prompt_number": 17
    },
    {
     "cell_type": "markdown",
     "metadata": {},
     "source": [
      "Se crea una funci\u00f3n que da n\u00fameros aleatorios con una distribuci\u00f3n binomial, se toma el 1 como que ocurre un evento y 0 cuando no ocurre nada:"
     ]
    },
    {
     "cell_type": "code",
     "collapsed": false,
     "input": [
      "def probabilidad (probabilidad):\n",
      "    a=np.random.binomial(1,probabilidad)\n",
      "    return a"
     ],
     "language": "python",
     "metadata": {},
     "outputs": [],
     "prompt_number": 18
    },
    {
     "cell_type": "markdown",
     "metadata": {},
     "source": [
      "Se itera un ciclo anidado, donde en el ciclo interior se generan 4 n\u00fameros aleatorios con la distribuci\u00f3n binomial, 2 para cada proceso (la evoluci\u00f3n de ARN  y  la evoluci\u00f3n de  Prote\u00edna).  La  probabilidad depende tanto de la tasa de creacio o destruccion, de cuanta es la poblaci\u00f3n en cada instante,y como es el delta t que se toma. Este proceso se repite para todas las c\u00e9lulas:"
     ]
    },
    {
     "cell_type": "code",
     "collapsed": false,
     "input": [
      "to=time.clock()\n",
      "for j  in  range (0,numero_de_celulas):\n",
      "    print j\n",
      "    for i in range (1, int(particion)):\n",
      "        p0[j][i]=p0[j][i-1]+probabilidad(kp*r0[j][i-1]*dt)-probabilidad(gp*p0[j][i-1]*dt)\n",
      "        r0[j][i]=r0[j][i-1]+probabilidad(kr*dt)-probabilidad(gr*r0[j][i-1]*dt)\n",
      "    #Se va sumando los resultados de cada interacci\u00f3n.#\n",
      "    p=p+p0[j]\n",
      "    r=r+r0[j]\n",
      "#Al final se toma el promedio#        \n",
      "p=p/numero_de_celulas\n",
      "r=r/numero_de_celulas\n",
      "print time.clock()-to"
     ],
     "language": "python",
     "metadata": {},
     "outputs": [
      {
       "output_type": "stream",
       "stream": "stdout",
       "text": [
        "0\n",
        "1"
       ]
      },
      {
       "output_type": "stream",
       "stream": "stdout",
       "text": [
        "\n",
        "2"
       ]
      },
      {
       "output_type": "stream",
       "stream": "stdout",
       "text": [
        "\n",
        "3"
       ]
      },
      {
       "output_type": "stream",
       "stream": "stdout",
       "text": [
        "\n",
        "4"
       ]
      },
      {
       "output_type": "stream",
       "stream": "stdout",
       "text": [
        "\n",
        "5"
       ]
      },
      {
       "output_type": "stream",
       "stream": "stdout",
       "text": [
        "\n",
        "6"
       ]
      },
      {
       "output_type": "stream",
       "stream": "stdout",
       "text": [
        "\n",
        "7"
       ]
      },
      {
       "output_type": "stream",
       "stream": "stdout",
       "text": [
        "\n",
        "8"
       ]
      },
      {
       "output_type": "stream",
       "stream": "stdout",
       "text": [
        "\n",
        "9"
       ]
      },
      {
       "output_type": "stream",
       "stream": "stdout",
       "text": [
        "\n",
        "10"
       ]
      },
      {
       "output_type": "stream",
       "stream": "stdout",
       "text": [
        "\n",
        "11"
       ]
      },
      {
       "output_type": "stream",
       "stream": "stdout",
       "text": [
        "\n",
        "12"
       ]
      },
      {
       "output_type": "stream",
       "stream": "stdout",
       "text": [
        "\n",
        "13"
       ]
      },
      {
       "output_type": "stream",
       "stream": "stdout",
       "text": [
        "\n",
        "14"
       ]
      },
      {
       "output_type": "stream",
       "stream": "stdout",
       "text": [
        "\n",
        "15"
       ]
      },
      {
       "output_type": "stream",
       "stream": "stdout",
       "text": [
        "\n",
        "16"
       ]
      },
      {
       "output_type": "stream",
       "stream": "stdout",
       "text": [
        "\n",
        "17"
       ]
      },
      {
       "output_type": "stream",
       "stream": "stdout",
       "text": [
        "\n",
        "18"
       ]
      },
      {
       "output_type": "stream",
       "stream": "stdout",
       "text": [
        "\n",
        "19"
       ]
      },
      {
       "output_type": "stream",
       "stream": "stdout",
       "text": [
        "\n",
        "20"
       ]
      },
      {
       "output_type": "stream",
       "stream": "stdout",
       "text": [
        "\n",
        "21"
       ]
      },
      {
       "output_type": "stream",
       "stream": "stdout",
       "text": [
        "\n",
        "22"
       ]
      },
      {
       "output_type": "stream",
       "stream": "stdout",
       "text": [
        "\n",
        "23"
       ]
      },
      {
       "output_type": "stream",
       "stream": "stdout",
       "text": [
        "\n",
        "24"
       ]
      },
      {
       "output_type": "stream",
       "stream": "stdout",
       "text": [
        "\n",
        "25"
       ]
      },
      {
       "output_type": "stream",
       "stream": "stdout",
       "text": [
        "\n",
        "26"
       ]
      },
      {
       "output_type": "stream",
       "stream": "stdout",
       "text": [
        "\n",
        "27"
       ]
      },
      {
       "output_type": "stream",
       "stream": "stdout",
       "text": [
        "\n",
        "28"
       ]
      },
      {
       "output_type": "stream",
       "stream": "stdout",
       "text": [
        "\n",
        "29"
       ]
      },
      {
       "output_type": "stream",
       "stream": "stdout",
       "text": [
        "\n",
        "30"
       ]
      },
      {
       "output_type": "stream",
       "stream": "stdout",
       "text": [
        "\n",
        "31"
       ]
      },
      {
       "output_type": "stream",
       "stream": "stdout",
       "text": [
        "\n",
        "32"
       ]
      },
      {
       "output_type": "stream",
       "stream": "stdout",
       "text": [
        "\n",
        "33"
       ]
      },
      {
       "output_type": "stream",
       "stream": "stdout",
       "text": [
        "\n",
        "34"
       ]
      },
      {
       "output_type": "stream",
       "stream": "stdout",
       "text": [
        "\n",
        "35"
       ]
      },
      {
       "output_type": "stream",
       "stream": "stdout",
       "text": [
        "\n",
        "36"
       ]
      },
      {
       "output_type": "stream",
       "stream": "stdout",
       "text": [
        "\n",
        "37"
       ]
      },
      {
       "output_type": "stream",
       "stream": "stdout",
       "text": [
        "\n",
        "38"
       ]
      },
      {
       "output_type": "stream",
       "stream": "stdout",
       "text": [
        "\n",
        "39"
       ]
      },
      {
       "output_type": "stream",
       "stream": "stdout",
       "text": [
        "\n",
        "40"
       ]
      },
      {
       "output_type": "stream",
       "stream": "stdout",
       "text": [
        "\n",
        "41"
       ]
      },
      {
       "output_type": "stream",
       "stream": "stdout",
       "text": [
        "\n",
        "42"
       ]
      },
      {
       "output_type": "stream",
       "stream": "stdout",
       "text": [
        "\n",
        "43"
       ]
      },
      {
       "output_type": "stream",
       "stream": "stdout",
       "text": [
        "\n",
        "44"
       ]
      },
      {
       "output_type": "stream",
       "stream": "stdout",
       "text": [
        "\n",
        "45"
       ]
      },
      {
       "output_type": "stream",
       "stream": "stdout",
       "text": [
        "\n",
        "46"
       ]
      },
      {
       "output_type": "stream",
       "stream": "stdout",
       "text": [
        "\n",
        "47"
       ]
      },
      {
       "output_type": "stream",
       "stream": "stdout",
       "text": [
        "\n",
        "48"
       ]
      },
      {
       "output_type": "stream",
       "stream": "stdout",
       "text": [
        "\n",
        "49"
       ]
      },
      {
       "output_type": "stream",
       "stream": "stdout",
       "text": [
        "\n",
        "2597.092077"
       ]
      },
      {
       "output_type": "stream",
       "stream": "stdout",
       "text": [
        "\n"
       ]
      }
     ],
     "prompt_number": 19
    },
    {
     "cell_type": "markdown",
     "metadata": {},
     "source": [
      "Al final se muestran las graficas de promedio y distribuci\u00f3n, debido a la poca eficiencia que tiene  la simulaci\u00f3n primitiva, se tuvo que reducir el numero de c\u00e9lulas a  50 para que fuera practico, ya que de otra manera puedo haber dura 1 d\u00eda. Lo que se puede observar es que el promedio en estado estable es igual a el estado estable que se observa en la ecuaci\u00f3n diferencial determinista. Cuando se realizan las distribuciones se observa que est\u00e1n tiene una forma semejante a una gaussiana  con todo el peso de probabilidad concentrado alrededor de punto estable. Se sabe que la distribuci\u00f3n deber\u00eda ser mas semejante a una Poisson, pero debido a el gran numero de valores, esta tiende a una gaussiana por el teorema del limite central. Para la distribuci\u00f3n de prote\u00ednas se obtuvo el siguiente promedio y ruido, respectivamente, 1445.52 y 0.163. Para el ARN mensajero fue \n",
      "un ruido de 0.385 y un promedio de 5.1.\n",
      "\n"
     ]
    },
    {
     "cell_type": "code",
     "collapsed": false,
     "input": [
      "y=arange(0,tiempo)\n",
      "fig=plot(y,p)\n",
      "title(\"Proteina en el tiempo\")\n",
      "ylabel('Poblaciones')\n",
      "xlabel('tiempo (micro-segundos)')\n"
     ],
     "language": "python",
     "metadata": {},
     "outputs": [
      {
       "metadata": {},
       "output_type": "pyout",
       "prompt_number": 24,
       "text": [
        "<matplotlib.text.Text at 0x1355be550>"
       ]
      },
      {
       "metadata": {},
       "output_type": "display_data",
       "png": "[encoded data removed]",
       "text": [
        "<matplotlib.figure.Figure at 0x135528ed0>"
       ]
      }
     ],
     "prompt_number": 24
    },
    {
     "cell_type": "code",
     "collapsed": false,
     "input": [
      "fig=plot(y,r)\n",
      "title(\"Arn en el tiempo\")\n",
      "ylabel('Poblaciones')\n",
      "xlabel('tiempo (micro-segundos)')\n",
      "\n"
     ],
     "language": "python",
     "metadata": {},
     "outputs": [
      {
       "metadata": {},
       "output_type": "pyout",
       "prompt_number": 25,
       "text": [
        "<matplotlib.text.Text at 0x1355be690>"
       ]
      },
      {
       "metadata": {},
       "output_type": "display_data",
       "png": "[encoded data removed]",
       "text": [
        "<matplotlib.figure.Figure at 0x105e9b550>"
       ]
      }
     ],
     "prompt_number": 25
    },
    {
     "cell_type": "code",
     "collapsed": false,
     "input": [
      "c=len(p)-1\n",
      "distribucionp=empty(0)\n",
      "distribucionr=empty(0)\n",
      "\n",
      "for i in range (0,50):\n",
      "    distribucionp=append(distribucionp,[p0[i][c]])\n",
      "    distribucionr=append(distribucionr,[r0[i][c]])"
     ],
     "language": "python",
     "metadata": {},
     "outputs": [],
     "prompt_number": 27
    },
    {
     "cell_type": "code",
     "collapsed": false,
     "input": [
      "fig=count, bins, ignored = plt.hist(distribucionp, 30,normed=True)\n",
      "title(\"Distribucion de proteinas usando metodo primitivo\", size=9)\n",
      "ylabel('Prbabilidad')\n",
      "xlabel('Poblacion por celula')\n",
      "plt.savefig('Distribucion de proteinas simulacion primitica.pdf',dpi=250)\n",
      "a= std(distribucionp)\n",
      "b= mean(distribucionp)\n",
      "ruido=a/b\n",
      "print ruido\n",
      "print b"
     ],
     "language": "python",
     "metadata": {},
     "outputs": [
      {
       "output_type": "stream",
       "stream": "stdout",
       "text": [
        "0.16324535512\n",
        "1445.52\n"
       ]
      },
      {
       "metadata": {},
       "output_type": "display_data",
       "png": "[encoded data removed]",
       "text": [
        "<matplotlib.figure.Figure at 0x10373e810>"
       ]
      }
     ],
     "prompt_number": 28
    },
    {
     "cell_type": "code",
     "collapsed": false,
     "input": [
      "fig=count, bins, ignored = plt.hist(distribucionr, 30,normed=True)\n",
      "title(\"Distribucion de ARN mensajero usando metodo primitivo\", size=9)\n",
      "ylabel('Prbabilidad')\n",
      "xlabel('Poblacion por celula')\n",
      "plt.savefig('Distribucion de ARN mensajero silumacion primitiva.pdf',dpi=250)\n",
      "c= std(distribucionr)\n",
      "d = mean(distribucionr)\n",
      "ruido=c/d\n",
      "xlim(0,10)\n",
      "ylim(0,1)\n",
      "print ruido\n",
      "print d"
     ],
     "language": "python",
     "metadata": {},
     "outputs": [
      {
       "output_type": "stream",
       "stream": "stdout",
       "text": [
        "0.384733664124\n",
        "5.1\n"
       ]
      },
      {
       "metadata": {},
       "output_type": "display_data",
       "png": "[encoded data removed]",
       "text": [
        "<matplotlib.figure.Figure at 0x14423d910>"
       ]
      }
     ],
     "prompt_number": 31
    },
    {
     "cell_type": "markdown",
     "metadata": {},
     "source": [
      "Se encuentra el tiempo para realizar el proceso para 100,000 celulas"
     ]
    },
    {
     "cell_type": "code",
     "collapsed": false,
     "input": [
      "a=2597.092077 #Tiempo requerido para solo 50 celulas#\n",
      "b=a*200 #Luego el tiempo para 100000 es el siguiente#\n",
      "b/(10/gp) # En unidades de 10/gp#"
     ],
     "language": "python",
     "metadata": {},
     "outputs": [
      {
       "metadata": {},
       "output_type": "pyout",
       "prompt_number": 32,
       "text": [
        "0.2885657863333333"
       ]
      }
     ],
     "prompt_number": 32
    },
    {
     "cell_type": "markdown",
     "metadata": {},
     "source": [
      "El modelo empieza a fallar cuando las tasas, ya sean de creacion o destruccion, sean de 1/10. Entonces se observa el valor para el valor maximo para el cual una de las consatantes de hace 1/10"
     ]
    },
    {
     "cell_type": "markdown",
     "metadata": {},
     "source": [
      "Este seria dt de 3 por que para este valor gp se hace 1/10"
     ]
    }
   ],
   "metadata": {}
  }
 ]
}