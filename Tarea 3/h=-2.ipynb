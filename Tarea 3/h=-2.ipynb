{
 "cells": [
  {
   "cell_type": "code",
   "execution_count": 38,
   "metadata": {
    "collapsed": false
   },
   "outputs": [
    {
     "name": "stdout",
     "output_type": "stream",
     "text": [
      "Populating the interactive namespace from numpy and matplotlib\n"
     ]
    }
   ],
   "source": [
    "%pylab inline\n",
    "import time"
   ]
  },
  {
   "cell_type": "code",
   "execution_count": 48,
   "metadata": {
    "collapsed": false
   },
   "outputs": [],
   "source": [
    "gr=1.0/5.0\n",
    "gp=1.0/30.0\n",
    "kr=1.0/1.0\n",
    "kp=50.0\n",
    "k=100\n",
    "\n",
    "tiempo=1.0/gp\n",
    "numero_de_celulas=250\n",
    "\n",
    "p=zeros((numero_de_celulas,tiempo*10000))\n",
    "r=zeros((numero_de_celulas,tiempo*10000))\n",
    "tau=zeros((numero_de_celulas,tiempo*10000))"
   ]
  },
  {
   "cell_type": "markdown",
   "metadata": {},
   "source": [
    "La única diferencia entre esta implementación y la que se usa anteriormente, es que se cambia la definicion de de kt y krkt por las siguientes:\n",
    "\n",
    "\n",
    "\n",
    "\n",
    "\n",
    "->kt=kp*a+kr/(1+(b*b)/(k*k))+gp*b+gr*a\n",
    "\n",
    "\n",
    "\n",
    "\n",
    "\n",
    "\n",
    "->krkt=(kr/(1+(b*b)/(k*k)))/kt"
   ]
  },
  {
   "cell_type": "code",
   "execution_count": 49,
   "metadata": {
    "collapsed": false
   },
   "outputs": [
    {
     "ename": "KeyboardInterrupt",
     "evalue": "",
     "output_type": "error",
     "traceback": [
      "\u001b[0;31m---------------------------------------------------------------------------\u001b[0m",
      "\u001b[0;31mKeyboardInterrupt\u001b[0m                         Traceback (most recent call last)",
      "\u001b[0;32m<ipython-input-49-1a162f871e43>\u001b[0m in \u001b[0;36m<module>\u001b[0;34m()\u001b[0m\n\u001b[1;32m     29\u001b[0m             \u001b[0mp0\u001b[0m\u001b[0;34m[\u001b[0m\u001b[0mi\u001b[0m\u001b[0;34m+\u001b[0m\u001b[0;36m1\u001b[0m\u001b[0;34m]\u001b[0m\u001b[0;34m=\u001b[0m\u001b[0;34m(\u001b[0m\u001b[0mb\u001b[0m\u001b[0;34m)\u001b[0m\u001b[0;34m\u001b[0m\u001b[0m\n\u001b[1;32m     30\u001b[0m         \u001b[0mc\u001b[0m\u001b[0;34m=\u001b[0m\u001b[0mrandom\u001b[0m\u001b[0;34m.\u001b[0m\u001b[0mexponential\u001b[0m\u001b[0;34m(\u001b[0m\u001b[0;36m1.0\u001b[0m\u001b[0;34m/\u001b[0m\u001b[0mkt\u001b[0m\u001b[0;34m)\u001b[0m\u001b[0;34m\u001b[0m\u001b[0m\n\u001b[0;32m---> 31\u001b[0;31m         \u001b[0mt\u001b[0m\u001b[0;34m=\u001b[0m\u001b[0mt\u001b[0m\u001b[0;34m+\u001b[0m\u001b[0msum\u001b[0m\u001b[0;34m(\u001b[0m\u001b[0mc\u001b[0m\u001b[0;34m)\u001b[0m\u001b[0;34m\u001b[0m\u001b[0m\n\u001b[0m\u001b[1;32m     32\u001b[0m         \u001b[0mtau\u001b[0m\u001b[0;34m[\u001b[0m\u001b[0mj\u001b[0m\u001b[0;34m]\u001b[0m\u001b[0;34m[\u001b[0m\u001b[0mi\u001b[0m\u001b[0;34m+\u001b[0m\u001b[0;36m1\u001b[0m\u001b[0;34m]\u001b[0m\u001b[0;34m=\u001b[0m\u001b[0mt\u001b[0m\u001b[0;34m\u001b[0m\u001b[0m\n\u001b[1;32m     33\u001b[0m         \u001b[0mi\u001b[0m\u001b[0;34m=\u001b[0m\u001b[0;36m1\u001b[0m\u001b[0;34m+\u001b[0m\u001b[0mi\u001b[0m\u001b[0;34m\u001b[0m\u001b[0m\n",
      "\u001b[0;32m/Users/juandiegoarango/anaconda/lib/python2.7/site-packages/numpy/core/fromnumeric.pyc\u001b[0m in \u001b[0;36msum\u001b[0;34m(a, axis, dtype, out, keepdims)\u001b[0m\n\u001b[1;32m   1828\u001b[0m         \u001b[0;32mexcept\u001b[0m \u001b[0mAttributeError\u001b[0m\u001b[0;34m:\u001b[0m\u001b[0;34m\u001b[0m\u001b[0m\n\u001b[1;32m   1829\u001b[0m             return _methods._sum(a, axis=axis, dtype=dtype,\n\u001b[0;32m-> 1830\u001b[0;31m                                  out=out, keepdims=keepdims)\n\u001b[0m\u001b[1;32m   1831\u001b[0m         \u001b[0;31m# NOTE: Dropping the keepdims parameters here...\u001b[0m\u001b[0;34m\u001b[0m\u001b[0;34m\u001b[0m\u001b[0m\n\u001b[1;32m   1832\u001b[0m         \u001b[0;32mreturn\u001b[0m \u001b[0msum\u001b[0m\u001b[0;34m(\u001b[0m\u001b[0maxis\u001b[0m\u001b[0;34m=\u001b[0m\u001b[0maxis\u001b[0m\u001b[0;34m,\u001b[0m \u001b[0mdtype\u001b[0m\u001b[0;34m=\u001b[0m\u001b[0mdtype\u001b[0m\u001b[0;34m,\u001b[0m \u001b[0mout\u001b[0m\u001b[0;34m=\u001b[0m\u001b[0mout\u001b[0m\u001b[0;34m)\u001b[0m\u001b[0;34m\u001b[0m\u001b[0m\n",
      "\u001b[0;31mKeyboardInterrupt\u001b[0m: "
     ]
    }
   ],
   "source": [
    "tamano=10000\n",
    "for j in range (0,numero_de_celulas):\n",
    "    p0=zeros(tiempo*10000)\n",
    "    r0=zeros(tiempo*10000)\n",
    "    r0[0]=100.0\n",
    "    p0[0]=100.0\n",
    "    t=0.0\n",
    "    i=0.0\n",
    "    while t<tiempo: \n",
    "        aleatorio=random.random()  \n",
    "        a=r0[i]\n",
    "        b=p0[i]  \n",
    "        kt=kp*a+kr/(1+(b/k)**-2)+gp*b+gr*a\n",
    "        kpkt=kp*a/kt\n",
    "        gpkt=gp*b/kt\n",
    "        grkt=gr*a/kt\n",
    "        krkt=(kr/(1+(b/k)**-2))/kt\n",
    "        if(aleatorio>=0)&(aleatorio<krkt):\n",
    "            r0[i+1]=(a+1.0)\n",
    "            p0[i+1]=(b)      \n",
    "        elif(aleatorio<kpkt+krkt)&(aleatorio>=krkt) &(a!=0) :\n",
    "            p0[i+1]=(b+1.0) \n",
    "            r0[i+1]=(a)\n",
    "        elif(aleatorio<kpkt+krkt+gpkt)&(aleatorio>=kpkt+krkt) & (b!=0):\n",
    "            p0[i+1]=(b-1.0) \n",
    "            r0[i+1]=(a)\n",
    "        elif(aleatorio<1) & (aleatorio>=kpkt+krkt+gpkt) & (a!=0):\n",
    "            r0[i+1]=(a-1.0)\n",
    "            p0[i+1]=(b)\n",
    "        c=random.exponential(1.0/kt)\n",
    "        t=t+sum(c)\n",
    "        tau[j][i+1]=t\n",
    "        i=1+i\n",
    "    if(tamano>i):\n",
    "        tamano=i\n",
    "    p[j]=p0\n",
    "    r[j]=r0\n"
   ]
  },
  {
   "cell_type": "code",
   "execution_count": 50,
   "metadata": {
    "collapsed": false
   },
   "outputs": [],
   "source": [
    "a=tamano\n",
    "pfinal=zeros((numero_de_celulas,a+1))\n",
    "rfinal=zeros((numero_de_celulas,a+1))\n",
    "tau_final=zeros((numero_de_celulas,a+1))\n",
    "for i in range (0,numero_de_celulas):\n",
    "    pfinal[i]=(p[i])[0:a+1]\n",
    "    rfinal[i]=(r[i])[0:a+1]\n",
    "    tau_final[i]=(tau[i])[0:a+1]"
   ]
  },
  {
   "cell_type": "code",
   "execution_count": null,
   "metadata": {
    "collapsed": false
   },
   "outputs": [],
   "source": [
    "particion=tamano*10\n",
    "dt=tamano/particion\n",
    "print dt\n",
    "p2=zeros((numero_de_celulas,particion))\n",
    "r2=zeros((numero_de_celulas,particion))\n",
    "\n",
    "for i in range (0,numero_de_celulas):\n",
    "    for j in range (0, int(particion)):\n",
    "        indice = (abs(tau_final[i]-j*dt)).argmin()\n",
    "        p2[i][j]=pfinal[i][indice]\n",
    "        r2[i][j]=rfinal[i][indice]\n",
    "        \n",
    "            "
   ]
  },
  {
   "cell_type": "code",
   "execution_count": null,
   "metadata": {
    "collapsed": false
   },
   "outputs": [],
   "source": [
    "a=0\n",
    "b=0\n",
    "for i in range(0, len(p2)):\n",
    "    a=a+p2[i]\n",
    "    b=b+r2[i]\n",
    "a=a/len(p2)\n",
    "b=b/len(r2)"
   ]
  },
  {
   "cell_type": "code",
   "execution_count": null,
   "metadata": {
    "collapsed": false
   },
   "outputs": [],
   "source": [
    "fig=plot(a)\n",
    "title(\"Algoritmo de Gillespie para proceso con retroaliementacion para las proteinas\",size=9)\n",
    "ylabel('Poblaciones')\n",
    "xlim(-100,3500)\n",
    "xlabel('tiempo (micro-segundos)')\n",
    "plt.savefig('Simulacion gillespie retroalimentada proteina.pdf',dpi=350)"
   ]
  },
  {
   "cell_type": "code",
   "execution_count": null,
   "metadata": {
    "collapsed": false
   },
   "outputs": [],
   "source": [
    "ylabel('Poblaciones')\n",
    "xlabel('tiempo (micro-segundos)')\n",
    "fig=plot(b)\n",
    "xlim(-100,3500)\n",
    "title(\"Algoritmo de Gillespie para proceso con retroaliementacion para ARN\",size=8)\n",
    "plt.savefig('Simulacion gillespie retroalimentada ARN.pdf',dpi=350)"
   ]
  },
  {
   "cell_type": "code",
   "execution_count": null,
   "metadata": {
    "collapsed": false
   },
   "outputs": [],
   "source": [
    "c=len(a)-1\n",
    "distribucionp=empty(0)\n",
    "distribucionr=empty(0)\n",
    "\n",
    "for i in range (0,250):\n",
    "    distribucionp=append(distribucionp,[p2[i][c]])\n",
    "    distribucionr=append(distribucionr,[r2[i][c]])\n",
    "\n",
    "    "
   ]
  },
  {
   "cell_type": "markdown",
   "metadata": {},
   "source": [
    "Abajo de cada grafica se distribucion de encuentra primero el ruido y luego el promedio"
   ]
  },
  {
   "cell_type": "code",
   "execution_count": null,
   "metadata": {
    "collapsed": false
   },
   "outputs": [],
   "source": [
    "fig=count, bins, ignored = plt.hist(distribucionp, 50,normed=True)\n",
    "title(\"Distribucion de proteinas con retroalimentacion-metodo Gillespie\",size=9)\n",
    "ylabel('Prbabilidad')\n",
    "xlabel('Poblacion por celula')\n",
    "plt.savefig('Distribucion de proteinas retroalimetada.pdf',dpi=350)\n",
    "a= std(distribucionp)\n",
    "b= mean(distribucionp)\n",
    "ruido=a/b\n",
    "print ruido\n",
    "print b"
   ]
  },
  {
   "cell_type": "code",
   "execution_count": null,
   "metadata": {
    "collapsed": false
   },
   "outputs": [],
   "source": [
    "fig=count, bins, ignored = plt.hist(distribucionr, 10,normed=True)\n",
    "title(\"Distribucion de ARN mensajero con retroalimentacion-metodo Gillespie\",size=9)\n",
    "ylabel('Prbabilidad')\n",
    "xlabel('Poblacion por celula')\n",
    "xlim(-1,4)\n",
    "ylim(0,2)\n",
    "plt.savefig('Distribucion de ARN mensajero retroalimetada.pdf',dpi=350)\n",
    "c= std(distribucionr)\n",
    "d = mean(distribucionr)\n",
    "ruido=c/d\n",
    "print ruido\n",
    "print d"
   ]
  },
  {
   "cell_type": "code",
   "execution_count": null,
   "metadata": {
    "collapsed": true
   },
   "outputs": [],
   "source": []
  },
  {
   "cell_type": "code",
   "execution_count": null,
   "metadata": {
    "collapsed": true
   },
   "outputs": [],
   "source": []
  }
 ],
 "metadata": {
  "kernelspec": {
   "display_name": "Python 2",
   "language": "python",
   "name": "python2"
  },
  "language_info": {
   "codemirror_mode": {
    "name": "ipython",
    "version": 2
   },
   "file_extension": ".py",
   "mimetype": "text/x-python",
   "name": "python",
   "nbconvert_exporter": "python",
   "pygments_lexer": "ipython2",
   "version": "2.7.11"
  }
 },
 "nbformat": 4,
 "nbformat_minor": 0
}
