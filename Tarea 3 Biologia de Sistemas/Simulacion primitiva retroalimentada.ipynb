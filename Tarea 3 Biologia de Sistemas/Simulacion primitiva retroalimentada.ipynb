{
 "metadata": {
  "name": "",
  "signature": "sha256:6d353773d8a1dc7d7557fb16fc5950f8a40a80c90fc0c575fd95e7b8d76f60c3"
 },
 "nbformat": 3,
 "nbformat_minor": 0,
 "worksheets": [
  {
   "cells": [
    {
     "cell_type": "code",
     "collapsed": false,
     "input": [
      "%pylab inline"
     ],
     "language": "python",
     "metadata": {},
     "outputs": [
      {
       "output_type": "stream",
       "stream": "stdout",
       "text": [
        "Populating the interactive namespace from numpy and matplotlib\n"
       ]
      }
     ],
     "prompt_number": 6
    },
    {
     "cell_type": "code",
     "collapsed": false,
     "input": [
      "gr=(1.0/5.0)*(1.0/60.0)*(1.0/100.0) \n",
      "gp=(1.0/30.0)*(1.0/60.0)*(1.0/100.0)  \n",
      "kr=(1.0/1.0)*(1.0/60.0)*(1.0/100.0)   \n",
      "kp=(10.0)*(1.0/60.0)*(1.0/100.0) \n",
      "tiempo=(500.0)*(60.0)*100.0\n",
      "numero_de_celulas=50\n",
      "particion=tiempo\n",
      "k=10\n",
      "dt=tiempo/particion\n",
      "\n",
      "p=zeros(particion)\n",
      "r=zeros(particion)\n",
      "p0=zeros((numero_de_celulas,tiempo))\n",
      "r0=zeros((numero_de_celulas,tiempo))"
     ],
     "language": "python",
     "metadata": {},
     "outputs": [],
     "prompt_number": 7
    },
    {
     "cell_type": "code",
     "collapsed": false,
     "input": [
      "def probabilidad (probabilidad):\n",
      "    a=np.random.binomial(1,probabilidad)\n",
      "    return a"
     ],
     "language": "python",
     "metadata": {},
     "outputs": [],
     "prompt_number": 8
    },
    {
     "cell_type": "markdown",
     "metadata": {},
     "source": [
      "El \u00fanico cambio que es necesario haceral c\u00f3digo previo para que encuentre la evoluci\u00f3n en el tiempo cuando hay una retroalimentaci\u00f3n,es  cambiar la l\u00ednea de c\u00f3digo que da las nuevas concentraciones de ARN por la siguiente:\n",
      " \n",
      " \n",
      "\n",
      "\n",
      "\n",
      "r0[j][i]=r0[j][i-1]+probabilidad(kr*dt/(1+(p0[j][i-1]*p0[j][i-1]/(k*k))))-probabilidad(gr*r0[j][i-1]*dt)\n",
      " \n"
     ]
    },
    {
     "cell_type": "code",
     "collapsed": false,
     "input": [
      "for j  in  range (0,numero_de_celulas):\n",
      "    print j\n",
      "    for i in range (1, int(particion)):\n",
      "        p0[j][i]=p0[j][i-1]+probabilidad(kp*r0[j][i-1]*dt)-probabilidad(gp*p0[j][i-1]*dt)\n",
      "        r0[j][i]=r0[j][i-1]+probabilidad(kr*dt/(1+(p0[j][i-1]*p0[j][i-1]/(k*k))))-probabilidad(gr*r0[j][i-1]*dt)\n",
      "    \n",
      "\n",
      "    p=p+p0[j]\n",
      "    r=r+r0[j]\n",
      "            \n",
      "p=p/numero_de_celulas\n",
      "r=r/numero_de_celulas    "
     ],
     "language": "python",
     "metadata": {},
     "outputs": [
      {
       "output_type": "stream",
       "stream": "stdout",
       "text": [
        "0\n",
        "1"
       ]
      },
      {
       "output_type": "stream",
       "stream": "stdout",
       "text": [
        "\n",
        "2"
       ]
      },
      {
       "output_type": "stream",
       "stream": "stdout",
       "text": [
        "\n",
        "3"
       ]
      },
      {
       "output_type": "stream",
       "stream": "stdout",
       "text": [
        "\n",
        "4"
       ]
      },
      {
       "output_type": "stream",
       "stream": "stdout",
       "text": [
        "\n",
        "5"
       ]
      },
      {
       "output_type": "stream",
       "stream": "stdout",
       "text": [
        "\n",
        "6"
       ]
      },
      {
       "output_type": "stream",
       "stream": "stdout",
       "text": [
        "\n",
        "7"
       ]
      },
      {
       "output_type": "stream",
       "stream": "stdout",
       "text": [
        "\n",
        "8"
       ]
      },
      {
       "output_type": "stream",
       "stream": "stdout",
       "text": [
        "\n",
        "9"
       ]
      },
      {
       "output_type": "stream",
       "stream": "stdout",
       "text": [
        "\n",
        "10"
       ]
      },
      {
       "output_type": "stream",
       "stream": "stdout",
       "text": [
        "\n",
        "11"
       ]
      },
      {
       "output_type": "stream",
       "stream": "stdout",
       "text": [
        "\n",
        "12"
       ]
      },
      {
       "output_type": "stream",
       "stream": "stdout",
       "text": [
        "\n",
        "13"
       ]
      },
      {
       "output_type": "stream",
       "stream": "stdout",
       "text": [
        "\n",
        "14"
       ]
      },
      {
       "output_type": "stream",
       "stream": "stdout",
       "text": [
        "\n",
        "15"
       ]
      },
      {
       "output_type": "stream",
       "stream": "stdout",
       "text": [
        "\n",
        "16"
       ]
      },
      {
       "output_type": "stream",
       "stream": "stdout",
       "text": [
        "\n",
        "17"
       ]
      },
      {
       "output_type": "stream",
       "stream": "stdout",
       "text": [
        "\n",
        "18"
       ]
      },
      {
       "output_type": "stream",
       "stream": "stdout",
       "text": [
        "\n",
        "19"
       ]
      },
      {
       "output_type": "stream",
       "stream": "stdout",
       "text": [
        "\n",
        "20"
       ]
      },
      {
       "output_type": "stream",
       "stream": "stdout",
       "text": [
        "\n",
        "21"
       ]
      },
      {
       "output_type": "stream",
       "stream": "stdout",
       "text": [
        "\n",
        "22"
       ]
      },
      {
       "output_type": "stream",
       "stream": "stdout",
       "text": [
        "\n",
        "23"
       ]
      },
      {
       "output_type": "stream",
       "stream": "stdout",
       "text": [
        "\n",
        "24"
       ]
      },
      {
       "output_type": "stream",
       "stream": "stdout",
       "text": [
        "\n",
        "25"
       ]
      },
      {
       "output_type": "stream",
       "stream": "stdout",
       "text": [
        "\n",
        "26"
       ]
      },
      {
       "output_type": "stream",
       "stream": "stdout",
       "text": [
        "\n",
        "27"
       ]
      },
      {
       "output_type": "stream",
       "stream": "stdout",
       "text": [
        "\n",
        "28"
       ]
      },
      {
       "output_type": "stream",
       "stream": "stdout",
       "text": [
        "\n",
        "29"
       ]
      },
      {
       "output_type": "stream",
       "stream": "stdout",
       "text": [
        "\n",
        "30"
       ]
      },
      {
       "output_type": "stream",
       "stream": "stdout",
       "text": [
        "\n",
        "31"
       ]
      },
      {
       "output_type": "stream",
       "stream": "stdout",
       "text": [
        "\n",
        "32"
       ]
      },
      {
       "output_type": "stream",
       "stream": "stdout",
       "text": [
        "\n",
        "33"
       ]
      },
      {
       "output_type": "stream",
       "stream": "stdout",
       "text": [
        "\n",
        "34"
       ]
      },
      {
       "output_type": "stream",
       "stream": "stdout",
       "text": [
        "\n",
        "35"
       ]
      },
      {
       "output_type": "stream",
       "stream": "stdout",
       "text": [
        "\n",
        "36"
       ]
      },
      {
       "output_type": "stream",
       "stream": "stdout",
       "text": [
        "\n",
        "37"
       ]
      },
      {
       "output_type": "stream",
       "stream": "stdout",
       "text": [
        "\n",
        "38"
       ]
      },
      {
       "output_type": "stream",
       "stream": "stdout",
       "text": [
        "\n",
        "39"
       ]
      },
      {
       "output_type": "stream",
       "stream": "stdout",
       "text": [
        "\n",
        "40"
       ]
      },
      {
       "output_type": "stream",
       "stream": "stdout",
       "text": [
        "\n",
        "41"
       ]
      },
      {
       "output_type": "stream",
       "stream": "stdout",
       "text": [
        "\n",
        "42"
       ]
      },
      {
       "output_type": "stream",
       "stream": "stdout",
       "text": [
        "\n",
        "43"
       ]
      },
      {
       "output_type": "stream",
       "stream": "stdout",
       "text": [
        "\n",
        "44"
       ]
      },
      {
       "output_type": "stream",
       "stream": "stdout",
       "text": [
        "\n",
        "45"
       ]
      },
      {
       "output_type": "stream",
       "stream": "stdout",
       "text": [
        "\n",
        "46"
       ]
      },
      {
       "output_type": "stream",
       "stream": "stdout",
       "text": [
        "\n",
        "47"
       ]
      },
      {
       "output_type": "stream",
       "stream": "stdout",
       "text": [
        "\n",
        "48"
       ]
      },
      {
       "output_type": "stream",
       "stream": "stdout",
       "text": [
        "\n",
        "49"
       ]
      },
      {
       "output_type": "stream",
       "stream": "stdout",
       "text": [
        "\n"
       ]
      }
     ],
     "prompt_number": 9
    },
    {
     "cell_type": "code",
     "collapsed": false,
     "input": [
      "y=arange(0,tiempo)\n",
      "fig=plot(y,p)\n",
      "title(\"Simulacion primtiva retro alimentada para proteina\")\n",
      "ylabel('Poblaciones')\n",
      "xlabel('tiempo (micro-segundos)')\n"
     ],
     "language": "python",
     "metadata": {},
     "outputs": [
      {
       "metadata": {},
       "output_type": "pyout",
       "prompt_number": 15,
       "text": [
        "<matplotlib.text.Text at 0x15eabfa10>"
       ]
      },
      {
       "metadata": {},
       "output_type": "display_data",
       "png": "[encoded data removed]",
       "text": [
        "<matplotlib.figure.Figure at 0x15eb4c490>"
       ]
      }
     ],
     "prompt_number": 15
    },
    {
     "cell_type": "code",
     "collapsed": false,
     "input": [
      "fig=plot(y,r)\n",
      "title(\"Simulacion primtiva retro alimentada para ARN mensajero\")\n",
      "ylabel('Poblaciones')\n",
      "xlabel('tiempo (micro-segundos)')\n"
     ],
     "language": "python",
     "metadata": {},
     "outputs": [
      {
       "metadata": {},
       "output_type": "pyout",
       "prompt_number": 14,
       "text": [
        "<matplotlib.text.Text at 0x15ea11710>"
       ]
      },
      {
       "metadata": {},
       "output_type": "display_data",
       "png": "[encoded data removed]",
       "text": [
        "<matplotlib.figure.Figure at 0x19db1bcd0>"
       ]
      }
     ],
     "prompt_number": 14
    },
    {
     "cell_type": "code",
     "collapsed": false,
     "input": [
      "c=len(p)-1\n",
      "distribucionp=empty(0)\n",
      "distribucionr=empty(0)\n",
      "\n",
      "for i in range (0,50):\n",
      "    distribucionp=append(distribucionp,[p0[i][c]])\n",
      "    distribucionr=append(distribucionr,[r0[i][c]])"
     ],
     "language": "python",
     "metadata": {},
     "outputs": [],
     "prompt_number": 18
    },
    {
     "cell_type": "code",
     "collapsed": false,
     "input": [
      "fig=count, bins, ignored = plt.hist(distribucionp, 100,normed=True)\n",
      "title(\"Distribucion de proteinas con retroalimentacion usando metod primitivo\", size=9)\n",
      "ylabel('Prbabilidad')\n",
      "xlabel('Poblacion por celula')\n",
      "a= std(distribucionp)\n",
      "b= mean(distribucionp)\n",
      "ruido=a/b\n",
      "print ruido\n",
      "print b"
     ],
     "language": "python",
     "metadata": {},
     "outputs": [
      {
       "output_type": "stream",
       "stream": "stdout",
       "text": [
        "0.417438711582\n",
        "63.06\n"
       ]
      },
      {
       "metadata": {},
       "output_type": "display_data",
       "png": "[encoded data removed]",
       "text": [
        "<matplotlib.figure.Figure at 0x1044634d0>"
       ]
      }
     ],
     "prompt_number": 22
    },
    {
     "cell_type": "code",
     "collapsed": false,
     "input": [
      "fig=count, bins, ignored = plt.hist(distribucionr, 10,normed=True)\n",
      "title(\"Distribucion de ARN mensajero con retroalimentacion usando metod primitivo\", size=9)\n",
      "ylabel('Prbabilidad')\n",
      "xlabel('Poblacion por celula')\n",
      "xlim(-1,2)\n",
      "c= std(distribucionr)\n",
      "d = mean(distribucionr)\n",
      "ruido=c/d\n",
      "print ruido\n",
      "print d"
     ],
     "language": "python",
     "metadata": {},
     "outputs": [
      {
       "output_type": "stream",
       "stream": "stdout",
       "text": [
        "2.13437474581\n",
        "0.18\n"
       ]
      },
      {
       "metadata": {},
       "output_type": "display_data",
       "png": "[encoded data removed]",
       "text": [
        "<matplotlib.figure.Figure at 0x10501a950>"
       ]
      }
     ],
     "prompt_number": 24
    },
    {
     "cell_type": "markdown",
     "metadata": {},
     "source": [
      "El promedio en el arn es 0.18 y su ruido es 2.134. Para la proteina su promedio es de 63.18 y su ruido de 0.417"
     ]
    }
   ],
   "metadata": {}
  }
 ]
}