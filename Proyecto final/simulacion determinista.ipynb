{
 "metadata": {
  "name": "",
  "signature": "sha256:5aa830abb16b5e63ce2386938ffbb184feb1880b82c8c3977047ef408f50df35"
 },
 "nbformat": 3,
 "nbformat_minor": 0,
 "worksheets": [
  {
   "cells": [
    {
     "cell_type": "code",
     "collapsed": false,
     "input": [
      "from scipy.integrate import odeint\n",
      "%pylab inline"
     ],
     "language": "python",
     "metadata": {},
     "outputs": [
      {
       "output_type": "stream",
       "stream": "stdout",
       "text": [
        "Populating the interactive namespace from numpy and matplotlib\n"
       ]
      }
     ],
     "prompt_number": 1
    },
    {
     "cell_type": "code",
     "collapsed": false,
     "input": [
      "#como se debilita cada promotor por gen en el medio#\n",
      "r=0.95\n",
      "\n",
      "#fuerza de cada promotor en el caso de cada gen#\n",
      "km_B=0.16\n",
      "kHg_B=0.08\n",
      "\n",
      "km_A=km_B*r\n",
      "kHg_A=kHg_B*r\n",
      "\n",
      "\n",
      "km_C=km_A*r**2\n",
      "kHg_C=kHg_A*r**2\n",
      "km_D=km_A*r**3\n",
      "kHg_D=kHg_A*r**3\n",
      "\n",
      "#coeficiente de hill#\n",
      "n=-1\n",
      "\n",
      "#degradacion de arn#\n",
      "gA=1.0/5.0\n",
      "gB=1.0/5.0\n",
      "\n",
      "#tazas de decaimiento de cada proteina##\n",
      "gPA=0.002\n",
      "gPB=0.002\n",
      "\n",
      "#concetracion de mercurio#\n",
      "Hg=1000.0\n",
      "\n",
      "#creacion de proteima#\n",
      "kPA=0.0833\n",
      "kPB=0.0833\n",
      "\n",
      "\n",
      "#tiempo#\n",
      "tamano=5000.0\n",
      "\n",
      "#proteina transportadora#\n",
      "Ptot=1000.0\n",
      "\n",
      "\n",
      "#retroalimentacion#\n",
      "k=25.0\n",
      "k2=10000.0"
     ],
     "language": "python",
     "metadata": {},
     "outputs": [],
     "prompt_number": 567
    },
    {
     "cell_type": "code",
     "collapsed": false,
     "input": [
      "#condicion iniciales\n",
      "a = 0.000001\n",
      "b = 0.000001\n",
      "Pb = 0.000001\n",
      "Pa = 0.000001\n",
      "y0=[a,b,Pa,Pb]\n",
      "Po=Ptot/(1.0+k2/Hg)\n",
      "t = np.linspace(0, 100,  tamano)"
     ],
     "language": "python",
     "metadata": {},
     "outputs": [],
     "prompt_number": 574
    },
    {
     "cell_type": "code",
     "collapsed": false,
     "input": [
      "def funcion (y,t):\n",
      "    a=y[0]\n",
      "    b=y[1]\n",
      "    Pa=y[2]\n",
      "    Pb=y[3]\n",
      "    \n",
      "    f0=(kHg_A/(1+k/Po))+(km_A*Pa/(1+((Pa)/k)**n))-gA*a\n",
      "    f1=(kHg_B/(1+k/Po))+(km_B*Pa/(1+((Pa)/k)**n))-gB*b\n",
      "    f2=kPA*a-gPA*Pa\n",
      "    f3=kPB*b-gPB*Pb\n",
      "    return [f0, f1, f2,f3]\n",
      "    "
     ],
     "language": "python",
     "metadata": {},
     "outputs": [],
     "prompt_number": 575
    },
    {
     "cell_type": "code",
     "collapsed": false,
     "input": [
      "soln = odeint(funcion, y0, t)\n",
      "a = soln[:, 0]\n",
      "b = soln[:, 1]\n",
      "Pb = soln[:, 2]\n",
      "Pa = soln[:, 3]"
     ],
     "language": "python",
     "metadata": {},
     "outputs": [],
     "prompt_number": 576
    },
    {
     "cell_type": "code",
     "collapsed": false,
     "input": [
      "plt.figure()\n",
      "plot(t,Pa)\n",
      "plot(t,Pb)\n",
      "xlim(0,100)"
     ],
     "language": "python",
     "metadata": {},
     "outputs": [
      {
       "metadata": {},
       "output_type": "pyout",
       "prompt_number": 582,
       "text": [
        "(0, 100)"
       ]
      },
      {
       "metadata": {},
       "output_type": "display_data",
       "png": "[encoded data removed]",
       "text": [
        "<matplotlib.figure.Figure at 0x11ff85ed0>"
       ]
      }
     ],
     "prompt_number": 582
    },
    {
     "cell_type": "code",
     "collapsed": false,
     "input": [
      "plot(t,b)\n",
      "plot(t,a)\n",
      "xlim"
     ],
     "language": "python",
     "metadata": {},
     "outputs": [
      {
       "metadata": {},
       "output_type": "pyout",
       "prompt_number": 578,
       "text": [
        "[<matplotlib.lines.Line2D at 0x11f876f90>]"
       ]
      },
      {
       "metadata": {},
       "output_type": "display_data",
       "png": "[encoded data removed]",
       "text": [
        "<matplotlib.figure.Figure at 0x11f876d10>"
       ]
      }
     ],
     "prompt_number": 578
    },
    {
     "cell_type": "code",
     "collapsed": false,
     "input": [
      "gA"
     ],
     "language": "python",
     "metadata": {},
     "outputs": [
      {
       "metadata": {},
       "output_type": "pyout",
       "prompt_number": 553,
       "text": [
        "0.2"
       ]
      }
     ],
     "prompt_number": 553
    },
    {
     "cell_type": "code",
     "collapsed": false,
     "input": [],
     "language": "python",
     "metadata": {},
     "outputs": []
    },
    {
     "cell_type": "code",
     "collapsed": false,
     "input": [],
     "language": "python",
     "metadata": {},
     "outputs": []
    }
   ],
   "metadata": {}
  }
 ]
}