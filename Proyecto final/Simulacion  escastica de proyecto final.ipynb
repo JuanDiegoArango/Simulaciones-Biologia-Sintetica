{
 "metadata": {
  "name": "",
  "signature": "sha256:66688293f0f8969e107a9ebae3a8286a557f8021c916c012c649c8d4957cc908"
 },
 "nbformat": 3,
 "nbformat_minor": 0,
 "worksheets": [
  {
   "cells": [
    {
     "cell_type": "code",
     "collapsed": false,
     "input": [
      "%pylab inline"
     ],
     "language": "python",
     "metadata": {},
     "outputs": [
      {
       "output_type": "stream",
       "stream": "stdout",
       "text": [
        "Populating the interactive namespace from numpy and matplotlib\n"
       ]
      }
     ],
     "prompt_number": 8
    },
    {
     "cell_type": "code",
     "collapsed": false,
     "input": [
      "#como se debilita cada promotor por gen en el medio#\n",
      "r=0.95\n",
      "\n",
      "#fuerza de cada promotor en el caso de cada gen#\n",
      "km_B=0.16\n",
      "kHg_B=0.08\n",
      "\n",
      "km_A=km_B*r\n",
      "kHg_A=kHg_B*r\n",
      "\n",
      "\n",
      "km_C=km_A*r**2\n",
      "kHg_C=kHg_A*r**2\n",
      "km_D=km_A*r**3\n",
      "kHg_D=kHg_A*r**3\n",
      "\n",
      "#coeficiente de hill#\n",
      "n=-1\n",
      "\n",
      "#degradacion de arn#\n",
      "gA=1.0/5.0\n",
      "gB=1.0/5.0\n",
      "\n",
      "#tazas de decaimiento de cada proteina##\n",
      "gPA=0.002\n",
      "gPB=0.002\n",
      "\n",
      "#concetracion de mercurio#\n",
      "Hg=1000.0\n",
      "\n",
      "#creacion de proteima#\n",
      "kPA=0.0833\n",
      "kPB=0.0833\n",
      "\n",
      "\n",
      "#tiempo#\n",
      "tamano=50.0\n",
      "\n",
      "#proteina transportadora#\n",
      "Ptot=1000.0\n",
      "\n",
      "\n",
      "#retroalimentacion#\n",
      "k=25.0\n",
      "k2=10000.0\n",
      "\n",
      "#tiempo#\n",
      "tiempo=100.0\n",
      "\n",
      "#numero de celulas#\n",
      "numero_de_celulas=39\n",
      "\n",
      "##\n",
      "Ptot=10000\n",
      "\n",
      "#tama\u00f1o de los arreglos#\n",
      "tamano=1000000\n",
      "\n",
      "\n",
      "#arrays# \n",
      "PA=zeros((numero_de_celulas,tiempo*tamano))\n",
      "PB=zeros((numero_de_celulas,tiempo*tamano))\n",
      "tau=zeros((numero_de_celulas,tiempo*tamano))\n",
      "contador_de_tamano=tamano\n",
      "Po=Ptot/(1+k2/Hg)"
     ],
     "language": "python",
     "metadata": {},
     "outputs": [],
     "prompt_number": 9
    },
    {
     "cell_type": "code",
     "collapsed": false,
     "input": [
      "for j in range (0,numero_de_celulas):\n",
      "    pa=zeros(tiempo*tamano)\n",
      "    pb=zeros(tiempo*tamano)\n",
      "    t=0.0\n",
      "    i=0.0\n",
      "    while t<tiempo: \n",
      "        aleatorio=random.random()  \n",
      "        b=pb[i]\n",
      "        a=pa[i] \n",
      "\n",
      "        \n",
      "        kt=(kHg_A/(1+k/Po))+(kHg_B/(1+k/Po))+(km_A*a/(1+(a/k)**n))+(km_B*a/(1+(a/k)**n))+(gPA*a)+(gPB*b)\n",
      "        \n",
      "        kmAkt=(km_A*a/(1+(a/k)**n))/kt\n",
      "        kHgAkt=(kHg_A/(1+k/Po))/kt\n",
      "        kmBkt=(km_B*a/(1+(a/k)**n))/kt\n",
      "        kHgBkt=(kHg_B/(1+k/Po))/kt\n",
      "        gPAkt=gPA*a/kt\n",
      "        gPBkt=gPB*b/kt\n",
      "        \n",
      "        \n",
      "        if(aleatorio<kmAkt+kHgAkt) & (aleatorio>=0): \n",
      "            \n",
      "            pa[i+1]=pa[i]+abs(kPA/gA)\n",
      "            pb[i+1]= pb[i]\n",
      "\n",
      "        elif(aleatorio<kmAkt+kHgAkt+kmBkt+kHgBkt) & (aleatorio>=kmAkt+kHgAkt):           \n",
      "            pb[i+1]= pb[i]+abs(kPB/gB)\n",
      "            pa[i+1]= pa[i]\n",
      "\n",
      "\n",
      "        elif(aleatorio<kmAkt+kHgAkt+kmBkt+kHgBkt+gPAkt)&(aleatorio>=kmAkt+kHgAkt+kmBkt+kHgBkt)&(a>1):\n",
      "            pa[i+1]= pa[i]-1.0   \n",
      "            pb[i+1]= pb[i]\n",
      "\n",
      "\n",
      "        elif(aleatorio<1)&(aleatorio>=kmAkt+kHgAkt+kmBkt+kHgBkt+gPAkt)&(b>1):\n",
      "            pb[i+1]= pb[i]-1.0\n",
      "            pa[i+1]= pa[i]\n",
      "\n",
      "        i=i+1\n",
      "\n",
      "        \n",
      "            \n",
      "        c=random.exponential(1.0/kt)\n",
      "        t=t+sum(c)\n",
      "        tau[j][i+1]=t\n",
      "        \n",
      "    if(contador_de_tamano>i):\n",
      "        contador_de_tamano=i\n",
      "    PA[j]=pa\n",
      "    PB[j]=pb\n",
      "    print j\n"
     ],
     "language": "python",
     "metadata": {},
     "outputs": [
      {
       "output_type": "stream",
       "stream": "stdout",
       "text": [
        "0\n",
        "1"
       ]
      },
      {
       "output_type": "stream",
       "stream": "stdout",
       "text": [
        "\n",
        "2"
       ]
      },
      {
       "output_type": "stream",
       "stream": "stdout",
       "text": [
        "\n",
        "3"
       ]
      },
      {
       "output_type": "stream",
       "stream": "stdout",
       "text": [
        "\n",
        "4"
       ]
      },
      {
       "output_type": "stream",
       "stream": "stdout",
       "text": [
        "\n",
        "5"
       ]
      },
      {
       "output_type": "stream",
       "stream": "stdout",
       "text": [
        "\n",
        "6"
       ]
      },
      {
       "output_type": "stream",
       "stream": "stdout",
       "text": [
        "\n",
        "7"
       ]
      },
      {
       "output_type": "stream",
       "stream": "stdout",
       "text": [
        "\n",
        "8"
       ]
      },
      {
       "output_type": "stream",
       "stream": "stdout",
       "text": [
        "\n",
        "9"
       ]
      },
      {
       "output_type": "stream",
       "stream": "stdout",
       "text": [
        "\n",
        "10"
       ]
      },
      {
       "output_type": "stream",
       "stream": "stdout",
       "text": [
        "\n",
        "11"
       ]
      },
      {
       "output_type": "stream",
       "stream": "stdout",
       "text": [
        "\n",
        "12"
       ]
      },
      {
       "output_type": "stream",
       "stream": "stdout",
       "text": [
        "\n",
        "13"
       ]
      },
      {
       "output_type": "stream",
       "stream": "stdout",
       "text": [
        "\n",
        "14"
       ]
      },
      {
       "output_type": "stream",
       "stream": "stdout",
       "text": [
        "\n",
        "15"
       ]
      },
      {
       "output_type": "stream",
       "stream": "stdout",
       "text": [
        "\n",
        "16"
       ]
      },
      {
       "output_type": "stream",
       "stream": "stdout",
       "text": [
        "\n",
        "17"
       ]
      },
      {
       "output_type": "stream",
       "stream": "stdout",
       "text": [
        "\n",
        "18"
       ]
      },
      {
       "output_type": "stream",
       "stream": "stdout",
       "text": [
        "\n",
        "19"
       ]
      },
      {
       "output_type": "stream",
       "stream": "stdout",
       "text": [
        "\n",
        "20"
       ]
      },
      {
       "output_type": "stream",
       "stream": "stdout",
       "text": [
        "\n",
        "21"
       ]
      },
      {
       "output_type": "stream",
       "stream": "stdout",
       "text": [
        "\n",
        "22"
       ]
      },
      {
       "output_type": "stream",
       "stream": "stdout",
       "text": [
        "\n",
        "23"
       ]
      },
      {
       "output_type": "stream",
       "stream": "stdout",
       "text": [
        "\n",
        "24"
       ]
      },
      {
       "output_type": "stream",
       "stream": "stdout",
       "text": [
        "\n",
        "25"
       ]
      },
      {
       "output_type": "stream",
       "stream": "stdout",
       "text": [
        "\n",
        "26"
       ]
      },
      {
       "output_type": "stream",
       "stream": "stdout",
       "text": [
        "\n",
        "27"
       ]
      },
      {
       "output_type": "stream",
       "stream": "stdout",
       "text": [
        "\n",
        "28"
       ]
      },
      {
       "output_type": "stream",
       "stream": "stdout",
       "text": [
        "\n",
        "29"
       ]
      },
      {
       "output_type": "stream",
       "stream": "stdout",
       "text": [
        "\n",
        "30"
       ]
      },
      {
       "output_type": "stream",
       "stream": "stdout",
       "text": [
        "\n",
        "31"
       ]
      },
      {
       "output_type": "stream",
       "stream": "stdout",
       "text": [
        "\n",
        "32"
       ]
      },
      {
       "output_type": "stream",
       "stream": "stdout",
       "text": [
        "\n",
        "33"
       ]
      },
      {
       "output_type": "stream",
       "stream": "stdout",
       "text": [
        "\n",
        "34"
       ]
      },
      {
       "output_type": "stream",
       "stream": "stdout",
       "text": [
        "\n",
        "35"
       ]
      },
      {
       "output_type": "stream",
       "stream": "stdout",
       "text": [
        "\n",
        "36"
       ]
      },
      {
       "output_type": "stream",
       "stream": "stdout",
       "text": [
        "\n",
        "37"
       ]
      },
      {
       "output_type": "stream",
       "stream": "stdout",
       "text": [
        "\n",
        "38"
       ]
      },
      {
       "output_type": "stream",
       "stream": "stdout",
       "text": [
        "\n"
       ]
      },
      {
       "output_type": "stream",
       "stream": "stderr",
       "text": [
        "-c:12: RuntimeWarning: divide by zero encountered in double_scalars\n",
        "-c:14: RuntimeWarning: divide by zero encountered in double_scalars\n",
        "-c:16: RuntimeWarning: divide by zero encountered in double_scalars\n"
       ]
      }
     ],
     "prompt_number": 10
    },
    {
     "cell_type": "code",
     "collapsed": false,
     "input": [
      "r=contador_de_tamano\n",
      "PAfinal=zeros((numero_de_celulas,r-1))\n",
      "PBfinal=zeros((numero_de_celulas,r-1))\n",
      "tau_final=zeros((numero_de_celulas,r-1))\n",
      "for i in range (0,numero_de_celulas):\n",
      "    PAfinal[i]=(PA[i])[0:r-1]\n",
      "    PBfinal[i]=(PB[i])[0:r-1]\n",
      "    tau_final[i]=(tau[i])[0:r-1]\n"
     ],
     "language": "python",
     "metadata": {},
     "outputs": [],
     "prompt_number": 58
    },
    {
     "cell_type": "code",
     "collapsed": false,
     "input": [
      "particion=10*contador_de_tamano\n",
      "dt=contador_de_tamano/(particion)\n",
      "print dt\n",
      "p2a=zeros((numero_de_celulas,particion))\n",
      "p2b=zeros((numero_de_celulas,particion))\n",
      "for i in range (0,numero_de_celulas):\n",
      "    for j in range (0, int(particion)):\n",
      "        indice = (abs(tau_final[i]-j*dt)).argmin()\n",
      "        p2a[i][j]=PAfinal[i][indice]\n",
      "        p2b[i][j]=PBfinal[i][indice]          "
     ],
     "language": "python",
     "metadata": {},
     "outputs": [
      {
       "output_type": "stream",
       "stream": "stdout",
       "text": [
        "0.1\n"
       ]
      }
     ],
     "prompt_number": 59
    },
    {
     "cell_type": "code",
     "collapsed": false,
     "input": [
      "a=0.0\n",
      "b=0.0\n",
      "for i in range(0, len(p2a)):\n",
      "    a=a+p2a[i]\n",
      "    b=b+p2b[i]\n",
      "a=a/len(p2a)\n",
      "b=b/len(p2b)"
     ],
     "language": "python",
     "metadata": {},
     "outputs": [],
     "prompt_number": 60
    },
    {
     "cell_type": "markdown",
     "metadata": {},
     "source": [
      "Aqui se tiene las graficas de las dos proteinas, falta tiempo de iteracion para obtener el crecimiento esperado, pero se tiene el comportamineto que se espera desde el modelo determinista"
     ]
    },
    {
     "cell_type": "code",
     "collapsed": false,
     "input": [
      "plot(a)\n",
      "plot(b)"
     ],
     "language": "python",
     "metadata": {},
     "outputs": [
      {
       "metadata": {},
       "output_type": "pyout",
       "prompt_number": 61,
       "text": [
        "[<matplotlib.lines.Line2D at 0x16d302ead0>]"
       ]
      },
      {
       "metadata": {},
       "output_type": "display_data",
       "png": "[encoded data removed]",
       "text": [
        "<matplotlib.figure.Figure at 0x16d302ee50>"
       ]
      }
     ],
     "prompt_number": 61
    },
    {
     "cell_type": "markdown",
     "metadata": {},
     "source": [
      "Se observan todas las reacciones que conforman la grafica de la reaccion que se ve en verde"
     ]
    },
    {
     "cell_type": "code",
     "collapsed": false,
     "input": [
      "for i in range(0,37):\n",
      "    plot(p2a[i])\n",
      "    plot(a)\n",
      "\n"
     ],
     "language": "python",
     "metadata": {},
     "outputs": [
      {
       "metadata": {},
       "output_type": "display_data",
       "png": "[encoded data removed]",
       "text": [
        "<matplotlib.figure.Figure at 0x16d2aa4450>"
       ]
      }
     ],
     "prompt_number": 67
    },
    {
     "cell_type": "markdown",
     "metadata": {},
     "source": [
      "Se observan todas las reacciones que conforman la grafica de la reaccion que se ve en azul"
     ]
    },
    {
     "cell_type": "code",
     "collapsed": false,
     "input": [
      "for i in range(0,37):\n",
      "    plot(p2b[i])\n",
      "    plot(b)\n"
     ],
     "language": "python",
     "metadata": {},
     "outputs": [
      {
       "metadata": {},
       "output_type": "display_data",
       "png": "[encoded data removed]",
       "text": [
        "<matplotlib.figure.Figure at 0x16d2b4be10>"
       ]
      }
     ],
     "prompt_number": 66
    },
    {
     "cell_type": "code",
     "collapsed": false,
     "input": [
      "Falta tiempo de iteracion y celulas pero se tiene resultados dentro de lo esperado"
     ],
     "language": "python",
     "metadata": {},
     "outputs": []
    }
   ],
   "metadata": {}
  }
 ]
}