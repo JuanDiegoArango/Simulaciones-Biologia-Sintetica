{
 "cells": [
  {
   "cell_type": "code",
   "execution_count": 146,
   "metadata": {
    "collapsed": false
   },
   "outputs": [
    {
     "name": "stdout",
     "output_type": "stream",
     "text": [
      "Populating the interactive namespace from numpy and matplotlib\n"
     ]
    }
   ],
   "source": [
    "%pylab inline \n",
    "from scipy.optimize import curve_fit\n"
   ]
  },
  {
   "cell_type": "code",
   "execution_count": 149,
   "metadata": {
    "collapsed": true
   },
   "outputs": [],
   "source": [
    "def exponencial(x, a, b):\n",
    "    return a * np.exp(-b * x)"
   ]
  },
  {
   "cell_type": "markdown",
   "metadata": {},
   "source": [
    "# a"
   ]
  },
  {
   "cell_type": "markdown",
   "metadata": {},
   "source": [
    "Distribucion uniforme"
   ]
  },
  {
   "cell_type": "code",
   "execution_count": 147,
   "metadata": {
    "collapsed": false
   },
   "outputs": [
    {
     "data": {
      "image/png": "[encoded data removed]",
      "text/plain": [
       "<matplotlib.figure.Figure at 0x1150697d0>"
      ]
     },
     "metadata": {},
     "output_type": "display_data"
    }
   ],
   "source": [
    "x=numpy.random.uniform(0,1,100000)\n",
    "count, bins, ignored = hist(x, bins=10,normed=True)"
   ]
  },
  {
   "cell_type": "markdown",
   "metadata": {},
   "source": [
    "Distrubicion exponencial generada a base de la uniforme"
   ]
  },
  {
   "cell_type": "code",
   "execution_count": 162,
   "metadata": {
    "collapsed": false
   },
   "outputs": [
    {
     "data": {
      "text/plain": [
       "[<matplotlib.lines.Line2D at 0x11509f5d0>]"
      ]
     },
     "execution_count": 162,
     "metadata": {},
     "output_type": "execute_result"
    },
    {
     "data": {
      "image/png": "[encoded data removed]",
      "text/plain": [
       "<matplotlib.figure.Figure at 0x115593990>"
      ]
     },
     "metadata": {},
     "output_type": "display_data"
    }
   ],
   "source": [
    "x=numpy.random.uniform(0,1,1000000)\n",
    "t=10.0\n",
    "x=log(1/x)*t\n",
    "count, bins, ignored = hist(x, bins=100,normed=True)\n",
    "popt, pcov = curve_fit(exponencial, bins[:100], count)\n",
    "plot(bins,exponencial(popt[0],popt[1],bins), color='red')\n"
   ]
  },
  {
   "cell_type": "markdown",
   "metadata": {},
   "source": [
    "#b \n",
    "se generan 500 numero con distribucion exponencial"
   ]
  },
  {
   "cell_type": "code",
   "execution_count": 150,
   "metadata": {
    "collapsed": false
   },
   "outputs": [
    {
     "data": {
      "text/plain": [
       "[<matplotlib.lines.Line2D at 0x114853e10>]"
      ]
     },
     "execution_count": 150,
     "metadata": {},
     "output_type": "execute_result"
    },
    {
     "data": {
      "image/png": "[encoded data removed]",
      "text/plain": [
       "<matplotlib.figure.Figure at 0x1150b8ad0>"
      ]
     },
     "metadata": {},
     "output_type": "display_data"
    }
   ],
   "source": [
    "x=numpy.random.uniform(0,1,500)\n",
    "t=10.0\n",
    "x=log(1/x)*t\n",
    "count, bins, ignored = hist(x, bins=100,normed=True)\n",
    "popt, pcov = curve_fit(exponencial, bins[:100], count)\n",
    "plot(bins,exponencial(popt[0],popt[1],bins), color='red')\n"
   ]
  },
  {
   "cell_type": "markdown",
   "metadata": {},
   "source": [
    "# C"
   ]
  },
  {
   "cell_type": "code",
   "execution_count": 156,
   "metadata": {
    "collapsed": false
   },
   "outputs": [],
   "source": [
    "k=5.0\n",
    "r=10.0\n",
    "kt=k+r\n",
    "kkt=k/kt\n",
    "rkt=r/kt\n",
    "contador_r=0\n",
    "tiempo_r=[]\n",
    "contador_k=0\n",
    "tiempo_k=[]\n",
    "tiempo_total=[]\n",
    "t=0\n",
    "while (contador_r<50.0) & (contador_k<50.0):\n",
    "    aleatorio=random.random()\n",
    "    if (aleatorio<rkt):\n",
    "        contador_r=contador_r+1\n",
    "        tiempo_r.append(t)\n",
    "        tiempo_total.append(t)\n",
    "\n",
    "  \n",
    "    elif (aleatorio>=kkt) & (aleatorio<1):\n",
    "        contador_k=contador_k+1\n",
    "        tiempo_k.append(t)\n",
    "        tiempo_total.append(t)\n",
    "\n",
    "\n",
    "    c=random.exponential(1.0/kt)\n",
    "    t=t+sum(c)"
   ]
  },
  {
   "cell_type": "code",
   "execution_count": 157,
   "metadata": {
    "collapsed": false
   },
   "outputs": [],
   "source": [
    "tiempo_r=array(tiempo_r)\n",
    "tiempos_r=zeros(len(tiempo_r)-1)\n",
    "tiempo_k=array(tiempo_k)\n",
    "tiempos_k=zeros(len(tiempo_k)-1)\n",
    "\n",
    "tiempo_total=array(tiempo_total)\n",
    "tiempos=zeros(len(tiempo_total)-1)\n",
    "\n",
    "\n",
    "for i in range (0,len(tiempo_r)-1):\n",
    "    tiempos_r[i]=tiempo_r[i+1]-tiempo_r[i]\n",
    "for i in range (0,len(tiempo_k)-1):\n",
    "    tiempos_k[i]=tiempo_k[i+1]-tiempo_k[i]\n",
    "for i in range (0,len(tiempo_total)-1):\n",
    "    tiempos[i]=(tiempo_total[i+1]-tiempo_total[i]) \n",
    "    \n"
   ]
  },
  {
   "cell_type": "code",
   "execution_count": 158,
   "metadata": {
    "collapsed": false
   },
   "outputs": [
    {
     "name": "stdout",
     "output_type": "stream",
     "text": [
      "media\n",
      "2.73409098934\n"
     ]
    },
    {
     "data": {
      "image/png": "[encoded data removed]",
      "text/plain": [
       "<matplotlib.figure.Figure at 0x1145d5f50>"
      ]
     },
     "metadata": {},
     "output_type": "display_data"
    }
   ],
   "source": [
    "count, bins, ignored = hist(tiempos_r, bins=10,normed=True)\n",
    "popt, pcov = curve_fit(exponencial, bins[:10], count)\n",
    "plot(bins,exponencial(popt[0],popt[1],bins),color='red')\n",
    "xlim(0,1)\n",
    "print \"media\"\n",
    "print mean(tiempo_r)"
   ]
  },
  {
   "cell_type": "code",
   "execution_count": 159,
   "metadata": {
    "collapsed": false
   },
   "outputs": [
    {
     "name": "stdout",
     "output_type": "stream",
     "text": [
      "media\n",
      "0.268385118286\n"
     ]
    },
    {
     "data": {
      "image/png": "[encoded data removed]",
      "text/plain": [
       "<matplotlib.figure.Figure at 0x1156605d0>"
      ]
     },
     "metadata": {},
     "output_type": "display_data"
    }
   ],
   "source": [
    "count, bins, ignored = hist(tiempos_k, bins=30,normed=True)\n",
    "popt, pcov = curve_fit(exponencial, bins[:30], count)\n",
    "plot(bins,exponencial(popt[0],popt[1],bins), color='red')\n",
    "xlim(0,1)\n",
    "print \"media\"\n",
    "print mean(tiempos_k)"
   ]
  },
  {
   "cell_type": "code",
   "execution_count": 161,
   "metadata": {
    "collapsed": false
   },
   "outputs": [
    {
     "name": "stdout",
     "output_type": "stream",
     "text": [
      "media\n",
      "0.0735020460977\n"
     ]
    },
    {
     "data": {
      "image/png": "[encoded data removed]",
      "text/plain": [
       "<matplotlib.figure.Figure at 0x1156bdd10>"
      ]
     },
     "metadata": {},
     "output_type": "display_data"
    }
   ],
   "source": [
    "count, bins, ignored = hist(tiempos, bins=30,normed=True)\n",
    "popt, pcov = curve_fit(exponencial, bins[:30], count)\n",
    "plot(bins,exponencial(popt[0],popt[1],bins), color='red')\n",
    "xlim(0,1)\n",
    "print \"media\"\n",
    "print mean(tiempos)"
   ]
  },
  {
   "cell_type": "markdown",
   "metadata": {},
   "source": [
    "# D"
   ]
  },
  {
   "cell_type": "markdown",
   "metadata": {},
   "source": [
    "El enunciado no es muy claro, entonces se esta entendiendo que la reaccion A tiene una tasa de k=15 y cada vez que ocurre un evento A se vuelve B. Se tomara el r para B del punto anterior y se entiende que cuando pasa B no vuelve a A. Como solo ocurre una reaccione a la vez por que es A o B. Entonces el gillespie se reduce."
   ]
  },
  {
   "cell_type": "code",
   "execution_count": 171,
   "metadata": {
    "collapsed": true
   },
   "outputs": [],
   "source": [
    "def probabilidad (probabilidad):\n",
    "    a=np.random.binomial(1,probabilidad)\n",
    "    return a"
   ]
  },
  {
   "cell_type": "code",
   "execution_count": 176,
   "metadata": {
    "collapsed": false
   },
   "outputs": [],
   "source": [
    "r=15.0\n",
    "k=5.0\n",
    "tiempo_A=[]\n",
    "tiempo_B=[]\n",
    "\n",
    "estado=\"A\"\n",
    "\n",
    "tiempo_total=[]\n",
    "t=0\n",
    "for i in range (0,1000):\n",
    "    a=probabilidad (1.0/3.0)\n",
    "    if(a==0):\n",
    "        estado=\"B\"\n",
    "    if (estado==\"A\"):\n",
    "        tiempo_A.append(t)\n",
    "        \n",
    "    if (estado==\"B\"):\n",
    "        tiempo_B.append(t)\n",
    "     \n",
    "    c=random.exponential(1.0)\n",
    "    t=t+sum(c)"
   ]
  },
  {
   "cell_type": "code",
   "execution_count": 178,
   "metadata": {
    "collapsed": false
   },
   "outputs": [
    {
     "data": {
      "text/plain": [
       "[0]"
      ]
     },
     "execution_count": 178,
     "metadata": {},
     "output_type": "execute_result"
    }
   ],
   "source": [
    "tiempo_A"
   ]
  },
  {
   "cell_type": "code",
   "execution_count": null,
   "metadata": {
    "collapsed": true
   },
   "outputs": [],
   "source": []
  }
 ],
 "metadata": {
  "kernelspec": {
   "display_name": "Python 2",
   "language": "python",
   "name": "python2"
  },
  "language_info": {
   "codemirror_mode": {
    "name": "ipython",
    "version": 2
   },
   "file_extension": ".py",
   "mimetype": "text/x-python",
   "name": "python",
   "nbconvert_exporter": "python",
   "pygments_lexer": "ipython2",
   "version": "2.7.11"
  }
 },
 "nbformat": 4,
 "nbformat_minor": 0
}
